{
 "cells": [
  {
   "cell_type": "code",
   "execution_count": 1,
   "metadata": {},
   "outputs": [
    {
     "name": "stdout",
     "output_type": "stream",
     "text": [
      "25\n"
     ]
    }
   ],
   "source": [
    "import grid\n",
    "\n",
    "print(grid.distance2((1, 2), (5, 5)))"
   ]
  },
  {
   "cell_type": "code",
   "execution_count": 8,
   "metadata": {},
   "outputs": [
    {
     "name": "stdout",
     "output_type": "stream",
     "text": [
      "[[0, 1, 2, 3, 4, 5], 0, 1, 2, 3, 4, 5]\n"
     ]
    }
   ],
   "source": [
    "matrix = [[\" \",\"0\",\"1\",\"2\",\"3\",\"4\",\"5\",\"6\"]\n",
    "          [\"0\",\"-\",\"-\",\"-\",\"-\",\"-\",\"-\",\"-\"],\n",
    "          [\"1\",\"-\",\"-\",\"-\",\"-\",\"-\",\"-\",\"-\"],\n",
    "          [\"2\",\"-\",\"-\",\"-\",\"-\",\"-\",\"-\",\"-\"],\n",
    "          [\"3\",\"-\",\"-\",\"-\",\"-\",\"-\",\"-\",\"-\"],\n",
    "          [\"4\",\"-\",\"-\",\"-\",\"-\",\"-\",\"-\",\"-\"],\n",
    "          [\"5\",\"-\",\"-\",\"-\",\"-\",\"-\",\"-\",\"-\"],\n",
    "print(matrix)"
   ]
  }
 ],
 "metadata": {
  "kernelspec": {
   "display_name": "Python 3",
   "language": "python",
   "name": "python3"
  },
  "language_info": {
   "codemirror_mode": {
    "name": "ipython",
    "version": 3
   },
   "file_extension": ".py",
   "mimetype": "text/x-python",
   "name": "python",
   "nbconvert_exporter": "python",
   "pygments_lexer": "ipython3",
   "version": "3.6.5"
  }
 },
 "nbformat": 4,
 "nbformat_minor": 1
}
