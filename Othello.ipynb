{
 "cells": [
  {
   "cell_type": "code",
   "execution_count": 1,
   "metadata": {
    "collapsed": false
   },
   "outputs": [
   ],
   "source": [
    "from othello import *\n",
    "from collections import namedtuple"
   ]
  },
  {
   "cell_type": "code",
   "execution_count": 2,
   "metadata": {
    "collapsed": false
   },
   "outputs": [
   ],
   "source": [
    "import time\n",
    "\n",
    "class Tick():\n",
    "    def _init_(self):\n",
    "        self.t = time.time()\n",
    "\n",
    "    def tick(self):\n",
    "        self.t = time.time()\n",
    "        print(abs(self.t))\n",
    "\n",
    "    def tock(self):\n",
    "        print(abs(self.t - time.time()))"
   ]
  },
  {
   "cell_type": "code",
   "execution_count": 3,
   "metadata": {
    "collapsed": false
   },
   "outputs": [
    {
     "name": "stdout",
     "output_type": "stream",
     "text": [
      "  1 2 3 4 5 6 7 8 \n",
      "1 . B W W W W W . \n",
      "2 B B W B B B B . \n",
      "3 . B W W W B B . \n",
      "4 . . B W B B B . \n",
      "5 . . W B B . B . \n",
      "6 . . . B B B . . \n",
      "7 . . . . . . . . \n",
      "8 . . . . . . . . \n"
     ]
    }
   ],
   "source": [
    "GameState = namedtuple('GameState', 'to_move, utility, board, moves')\n",
    "moves = [(x, y) for x in range(1, 9) for y in range(1, 9)]\n",
    "boardA = {\n",
    "       (1, 5):'W',\n",
    "       (2, 5):'W',\n",
    "       (3, 1):'W',(3, 3):'B',(3, 4):'W',(3, 5):'W',(3, 6):'B',\n",
    "       (4, 1):'W',(4, 2):'W',(4, 3):'B',(4, 4):'B',(4, 5):'W',(4, 6):'B',\n",
    "       (5, 1):'W',(5, 2):'W',(5, 3):'W',(5, 4):'W',(5, 5):'W' ,(5, 6):'B',\n",
    "       (6, 3):'B',(6, 4):'W',(6, 5):'B', (6, 6):'B',\n",
    "       (7, 4):'B',(7, 5):'W', (7, 6):'B',\n",
    "       (8, 1):'B',(8, 2):'B',(8, 3):'B',(8, 4):'B',(8, 5):'B',(8, 6):'B'\n",
    "}\n",
    "boardB = {\n",
    "       (3, 6):'B',\n",
    "       (4, 4):'W',(4, 5):'B',(4, 6):'W',\n",
    "       (5, 3):'W',(5, 4):'B',(5, 5):'W',\n",
    "       (6, 3):'B'\n",
    "}\n",
    "boardC = {\n",
    "       (1,2):'W',(1,3):'W', (1,4):'W',(1, 5):'W',(1, 6):'W',(1, 7):'W',\n",
    "       (2,1):'W',(2,2):'W',(2,3):'W', (2,4):'W',(2, 5):'W',(2, 6):'W',(2, 7):'W',(2, 8):'W',\n",
    "       (3,1):'W',(3,2):'W',(3,3):'W', (3,4):'W',(3, 5):'W',(3, 6):'W',(3, 7):'W',(3, 8):'W',\n",
    "       (4, 1):'W',(4, 2):'W',(4, 3):'W',(4, 4):'B',(4, 5):'W',(4, 6):'W',(4, 7):'W',(4, 8):'W',\n",
    "       (5, 1):'W',(5, 2):'W',(5, 3):'W',(5, 4):'W',(5, 5):'W',(5, 6):'W',(5, 7):'W',(5, 8):'W',\n",
    "       (6, 1):'W',(6, 2):'W',(6, 3):'W',(6, 4):'W',(6, 5):'W',(6, 6):'W',(6, 7):'W',(6, 8):'W',\n",
    "       (7, 1):'W',(7, 2):'W',(7, 3):'W',(7, 4):'W',(7, 5):'W',(7, 6):'W',(7, 7):'W',(7, 8):'W',\n",
    "       (8, 2):'W',(8, 3):'W',(8, 4):'W',(8, 5):'W',(8, 6):'W',(8, 7):'W'\n",
    "}\n",
    "boardD={\n",
    "    (1, 2):'B',(1, 3):'W',(1, 4):'W',(1, 5):'W',(1, 6):'W',(1, 7):'W',\n",
    "(2, 1):'B',(2, 2):'B',(2, 3):'W',(2, 4):'B',(2, 5):'B',(2, 6):'B',(2, 7):'B',\n",
    " (3, 2):'B',(3, 3):'W',(3, 4):'W',(3, 5):'W',(3, 6):'B',(3, 7):'B',\n",
    "(4, 3):'B',(4, 4):'W',(4, 5):'B',(4, 6):'B',(4, 7):'B',\n",
    "(5, 3):'W',(5, 4):'B',(5, 5):'B',(5, 7):'B',\n",
    "(6, 4):'B',(6, 5):'B',(6, 6):'B'\n",
    "\n",
    "}\n",
    "boardE={\n",
    "    (1,1):'W',(1,3):'B', (1,4):'B',(1, 5):'B',(1, 6):'B',(1, 7):'B',(1, 8):'B',\n",
    "         (2,1):'W',(2,2):'W',(2,3):'B', (2,4):'B',(2, 5):'B',(2, 6):'B',(2, 7):'B',(2, 8):'B',\n",
    "       (3,1):'W',(3,2):'W',(3,3):'W', (3,4):'B',(3, 5):'B',(3, 6):'B',(3, 7):'B',(3, 8):'B',\n",
    "       (4, 1):'W',(4, 2):'W',(4, 3):'B',(4, 4):'W',(4, 5):'B',(4, 6):'B',(4, 7):'B',(4, 8):'B',\n",
    "       (5, 1):'W',(5, 2):'W',(5, 3):'W',(5, 4):'B',(5, 5):'W',(5, 6):'B',(5, 7):'B',(5, 8):'B',\n",
    "       (6, 1):'W',(6, 2):'W',(6, 3):'B',(6, 4):'W',(6, 5):'B',(6, 6):'W',(6, 7):'B',(6, 8):'B',\n",
    "       (7, 1):'W',(7, 2):'W',(7, 3):'B',(7, 4):'B',(7, 5):'W',(7, 6):'B',(7, 7):'W',(7, 8):'B',\n",
    "           (8, 1):'W',(8, 2):'W',(8, 3):'W',(8, 4):'W',(8, 5):'W',(8, 6):'W',(8, 7):'W', (8, 8):'W'\n",
    "\n",
    "}\n",
    "for pos in boardD.keys():\n",
    "    moves.remove(pos)\n",
    "state = GameState(to_move='W',utility=0,board=boardD,moves=moves)\n",
    "Othello().display(state)"
   ]
  },
  {
   "cell_type": "code",
   "execution_count": 4,
   "metadata": {
    "collapsed": false
   },
   "outputs": [
    {
     "data": {
      "text/plain": [
       "[(1, 1),\n",
       " (2, 8),\n",
       " (3, 1),\n",
       " (3, 8),\n",
       " (4, 1),\n",
       " (4, 2),\n",
       " (4, 8),\n",
       " (5, 2),\n",
       " (5, 6),\n",
       " (5, 8),\n",
       " (6, 7),\n",
       " (6, 8),\n",
       " (7, 4),\n",
       " (7, 5),\n",
       " (7, 7)]"
      ]
     },
     "execution_count": 4,
     "metadata": {
     },
     "output_type": "execute_result"
    }
   ],
   "source": [
    "O = Othello()\n",
    "Othello().actions(state)"
   ]
  },
  {
   "cell_type": "code",
   "execution_count": 5,
   "metadata": {
    "collapsed": false
   },
   "outputs": [
    {
     "name": "stdout",
     "output_type": "stream",
     "text": [
      "  1 2 3 4 5 6 7 8 \n",
      "1 . B W W W W W . \n",
      "2 B B W B B B B . \n",
      "3 . B W W W B B . \n",
      "4 . . B W B B B . \n",
      "5 . . W B B . B . \n",
      "6 . . . B B B . . \n",
      "7 . . . . . . . . \n",
      "8 . . . . . . . . \n",
      "[(1, 1), (1, 8), (2, 8), (3, 1), (3, 8), (4, 1), (4, 2), (4, 8), (5, 1), (5, 2), (5, 6), (5, 8), (6, 1), (6, 2), (6, 3), (6, 7), (6, 8), (7, 1), (7, 2), (7, 3), (7, 4), (7, 5), (7, 6), (7, 7), (7, 8), (8, 1), (8, 2), (8, 3), (8, 4), (8, 5), (8, 6), (8, 7), (8, 8)]\n"
     ]
    }
   ],
   "source": [
    "O = Othello()\n",
    "O.display(state)\n",
    "print(state.moves)"
   ]
  },
  {
   "cell_type": "code",
   "execution_count": 6,
   "metadata": {
    "collapsed": false
   },
   "outputs": [
    {
     "data": {
      "text/plain": [
       "-75.0"
      ]
     },
     "execution_count": 6,
     "metadata": {
     },
     "output_type": "execute_result"
    }
   ],
   "source": [
    "def mobility(state, player):\n",
    "    O = Othello()\n",
    "    if player == 'B':\n",
    "        mine = len(O.legal_moves(state.moves,state.board,'B'))\n",
    "        other = len(O.legal_moves(state.moves,state.board,'W'))\n",
    "    else:\n",
    "        mine = len(O.legal_moves(state.moves,state.board,'W'))\n",
    "        other = len(O.legal_moves(state.moves,state.board,'B'))\n",
    "\n",
    "    if mine > other:\n",
    "        m = (100.0 * mine)/(mine + other)\n",
    "    elif mine < other:\n",
    "        m = -(100.0 * other)/(mine + other)\n",
    "    else:\n",
    "        m = 0\n",
    "    return m\n",
    "\n",
    "mobility(state,'B')"
   ]
  },
  {
   "cell_type": "code",
   "execution_count": 7,
   "metadata": {
    "collapsed": false
   },
   "outputs": [
    {
     "data": {
      "text/plain": [
       "0"
      ]
     },
     "execution_count": 7,
     "metadata": {
     },
     "output_type": "execute_result"
    }
   ],
   "source": [
    "def corners(state,player):\n",
    "    corners={(1,1), (1,8), (8,1), (8,8)}\n",
    "    Own_Corners = 0\n",
    "    Other_Corners = 0\n",
    "\n",
    "    for coord in corners:\n",
    "        if coord  in state.board:\n",
    "            if state.board[coord] == player:\n",
    "                Own_Corners += 1\n",
    "\n",
    "            else:\n",
    "                Other_Corners += 1\n",
    "\n",
    "        else:\n",
    "            pass\n",
    "\n",
    "    if((Own_Corners + Other_Corners) !=0):\n",
    "        Corner_Heuristic= 100 * (Own_Corners - Other_Corners) / (Own_Corners + Other_Corners)\n",
    "    else:\n",
    "        Corner_Heuristic = 0\n",
    "    return Corner_Heuristic\n",
    "\n",
    "corners(state,'B')"
   ]
  },
  {
   "cell_type": "code",
   "execution_count": 8,
   "metadata": {
    "collapsed": false
   },
   "outputs": [
    {
     "data": {
      "text/plain": [
       "29.032258064516128"
      ]
     },
     "execution_count": 8,
     "metadata": {
     },
     "output_type": "execute_result"
    }
   ],
   "source": [
    "def coin_parity(state,player):\n",
    "    max_value = 'B' if player == 'B' else 'W'\n",
    "    min_value = 'W' if player == 'B' else 'B'\n",
    "\n",
    "    pieces = list(state.board.values())\n",
    "    max_count = pieces.count(max_value)\n",
    "    min_count = pieces.count(min_value)\n",
    "    return 100 * (max_count - min_count) / (max_count + min_count)\n",
    "\n",
    "coin_parity(state,'B')"
   ]
  },
  {
   "cell_type": "code",
   "execution_count": 9,
   "metadata": {
    "collapsed": false
   },
   "outputs": [
    {
     "data": {
      "text/plain": [
       "-100.0"
      ]
     },
     "execution_count": 9,
     "metadata": {
     },
     "output_type": "execute_result"
    }
   ],
   "source": [
    "def corner_1_1(n,y,x,player,board):\n",
    "    if((y,x) in board and board[y,x] == player):\n",
    "        return corner_1_1(n + 1,y,x+1,player,board)\n",
    "    else:\n",
    "        if(((y+1,1) not in board) or (board[y+1,1] != player)):\n",
    "            return n\n",
    "        else:\n",
    "            return corner_1_1(n,y+1,1,player,board)\n",
    "\n",
    "def corner_1_8(n,y,x,player,board):\n",
    "    if((y,x) in board and board[y,x] == player):\n",
    "        return corner_1_8(n + 1,y,x-1,player,board)\n",
    "    else:\n",
    "        if(((y+1,8) not in board) or (board[y+1,8] != player)):\n",
    "            return n\n",
    "        else:\n",
    "            return corner_1_8(n,y+1,8,player,board)\n",
    "\n",
    "def corner_8_1(n,y,x,player,board):\n",
    "    if((y,x) in board and board[y,x] == player):\n",
    "        return corner_8_1(n + 1,y,x+1,player,board)\n",
    "    else:\n",
    "        if(((y-1,1) not in board) or (board[y-1,1] != player)):\n",
    "            return n\n",
    "        else:\n",
    "            return corner_8_1(n,y-1,1,player,board)\n",
    "\n",
    "def corner_8_8(n,y,x,player,board):\n",
    "    if((y,x) in board and board[y,x] == player):\n",
    "        return corner_8_8(n + 1,y,x-1,player,board)\n",
    "    else:\n",
    "        if(((y-1,8) not in board) or (board[y-1,8] != player)):\n",
    "            return n\n",
    "        else:\n",
    "            return corner_8_8(n,y-1,8,player,board)\n",
    "\n",
    "def corners(state,player):\n",
    "    n = 0\n",
    "    board = state.board\n",
    "    return corner_1_1(0,1,1,player,board) + corner_1_8(n,1,8,player,board) + corner_8_1(n,8,1,player,board) + corner_8_8(n,8,8,player,board)\n",
    "\n",
    "def stability(state,player):\n",
    "    max_value = 'B' if player == 'B' else 'W'\n",
    "    min_value = 'W' if player == 'B' else 'B'\n",
    "\n",
    "    if((corners(state,max_value) + corners(state,min_value)) !=0):\n",
    "        sta =  100 * (corners(state,max_value) - corners(state,min_value))/ (corners(state,max_value) + corners(state,min_value))\n",
    "    else:\n",
    "        sta = 0\n",
    "    return sta\n",
    "\n",
    "stability(state,\"W\")"
   ]
  },
  {
   "cell_type": "code",
   "execution_count": 14,
   "metadata": {
    "collapsed": false
   },
   "outputs": [
    {
     "data": {
      "text/plain": [
       "-10.766129032258064"
      ]
     },
     "execution_count": 14,
     "metadata": {
     },
     "output_type": "execute_result"
    }
   ],
   "source": [
    "def eval_fn(state, player):\n",
    "    return 0.50 * corners(state,player) + 0.25 * mobility(state,player) + 0.15 * stability(state,player) + 0.5 * coin_parity(state,player)\n",
    "\n",
    "eval_fn(state,'W')"
   ]
  },
  {
   "cell_type": "code",
   "execution_count": 11,
   "metadata": {
    "collapsed": false
   },
   "outputs": [
    {
     "name": "stdout",
     "output_type": "stream",
     "text": [
      "  1 2 3 4 5 6 7 8 \n",
      "1 . B W W W W W . \n",
      "2 B B W B B B B . \n",
      "3 . B W W W B B . \n",
      "4 . . B W B B B . \n",
      "5 . . W B B . B . \n",
      "6 . . . B B B . . \n",
      "7 . . . . . . . . \n",
      "8 . . . . . . . . \n"
     ]
    }
   ],
   "source": [
    "Othello().display(state)"
   ]
  },
  {
   "cell_type": "code",
   "execution_count": 15,
   "metadata": {
    "collapsed": false
   },
   "outputs": [
    {
     "name": "stdout",
     "output_type": "stream",
     "text": [
      "Black player wins!!\n",
      "Black chips = 41\n",
      "White chips = 23\n"
     ]
    },
    {
     "name": "stdout",
     "output_type": "stream",
     "text": [
      "Black player wins!!\n",
      "Black chips = 36\n",
      "White chips = 28\n"
     ]
    },
    {
     "name": "stdout",
     "output_type": "stream",
     "text": [
      "Black player wins!!\n",
      "Black chips = 53\n",
      "White chips = 9\n"
     ]
    },
    {
     "name": "stdout",
     "output_type": "stream",
     "text": [
      "Black player wins!!\n",
      "Black chips = 42\n",
      "White chips = 22\n"
     ]
    },
    {
     "name": "stdout",
     "output_type": "stream",
     "text": [
      "White player wins!!\n",
      "Black chips = 31\n",
      "White chips = 33\n"
     ]
    },
    {
     "name": "stdout",
     "output_type": "stream",
     "text": [
      "Black player wins!!\n",
      "Black chips = 58\n",
      "White chips = 4\n"
     ]
    },
    {
     "name": "stdout",
     "output_type": "stream",
     "text": [
      "Black player wins!!\n",
      "Black chips = 49\n",
      "White chips = 15\n"
     ]
    },
    {
     "name": "stdout",
     "output_type": "stream",
     "text": [
      "Black player wins!!\n",
      "Black chips = 49\n",
      "White chips = 15\n"
     ]
    },
    {
     "name": "stdout",
     "output_type": "stream",
     "text": [
      "Black player wins!!\n",
      "Black chips = 49\n",
      "White chips = 13\n"
     ]
    },
    {
     "name": "stdout",
     "output_type": "stream",
     "text": [
      "Black player wins!!\n",
      "Black chips = 38\n",
      "White chips = 26\n"
     ]
    },
    {
     "name": "stdout",
     "output_type": "stream",
     "text": [
      "Black player wins!!\n",
      "Black chips = 40\n",
      "White chips = 24\n"
     ]
    },
    {
     "name": "stdout",
     "output_type": "stream",
     "text": [
      "Black player wins!!\n",
      "Black chips = 37\n",
      "White chips = 27\n"
     ]
    },
    {
     "name": "stdout",
     "output_type": "stream",
     "text": [
      "Black player wins!!\n",
      "Black chips = 43\n",
      "White chips = 21\n"
     ]
    },
    {
     "name": "stdout",
     "output_type": "stream",
     "text": [
      "Black player wins!!\n",
      "Black chips = 15\n",
      "White chips = 0\n"
     ]
    },
    {
     "name": "stdout",
     "output_type": "stream",
     "text": [
      "Black player wins!!\n",
      "Black chips = 59\n",
      "White chips = 3\n"
     ]
    },
    {
     "name": "stdout",
     "output_type": "stream",
     "text": [
      "Black player wins!!\n",
      "Black chips = 38\n",
      "White chips = 26\n"
     ]
    },
    {
     "name": "stdout",
     "output_type": "stream",
     "text": [
      "Black player wins!!\n",
      "Black chips = 60\n",
      "White chips = 3\n"
     ]
    },
    {
     "name": "stdout",
     "output_type": "stream",
     "text": [
      "Black player wins!!\n",
      "Black chips = 38\n",
      "White chips = 26\n"
     ]
    },
    {
     "name": "stdout",
     "output_type": "stream",
     "text": [
      "Black player wins!!\n",
      "Black chips = 45\n",
      "White chips = 19\n"
     ]
    },
    {
     "name": "stdout",
     "output_type": "stream",
     "text": [
      "Black player wins!!\n",
      "Black chips = 56\n",
      "White chips = 8\n"
     ]
    },
    {
     "name": "stdout",
     "output_type": "stream",
     "text": [
      "Black player wins!!\n",
      "Black chips = 45\n",
      "White chips = 19\n"
     ]
    },
    {
     "name": "stdout",
     "output_type": "stream",
     "text": [
      "Black player wins!!\n",
      "Black chips = 43\n",
      "White chips = 21\n"
     ]
    },
    {
     "name": "stdout",
     "output_type": "stream",
     "text": [
      "Black player wins!!\n",
      "Black chips = 53\n",
      "White chips = 11\n"
     ]
    },
    {
     "name": "stdout",
     "output_type": "stream",
     "text": [
      "Black player wins!!\n",
      "Black chips = 51\n",
      "White chips = 13\n"
     ]
    },
    {
     "name": "stdout",
     "output_type": "stream",
     "text": [
      "Black player wins!!\n",
      "Black chips = 42\n",
      "White chips = 22\n"
     ]
    },
    {
     "name": "stdout",
     "output_type": "stream",
     "text": [
      "Black player wins!!\n",
      "Black chips = 44\n",
      "White chips = 20\n"
     ]
    },
    {
     "name": "stdout",
     "output_type": "stream",
     "text": [
      "Black player wins!!\n",
      "Black chips = 50\n",
      "White chips = 14\n"
     ]
    },
    {
     "name": "stdout",
     "output_type": "stream",
     "text": [
      "Black player wins!!\n",
      "Black chips = 36\n",
      "White chips = 28\n"
     ]
    },
    {
     "name": "stdout",
     "output_type": "stream",
     "text": [
      "Black player wins!!\n",
      "Black chips = 48\n",
      "White chips = 16\n"
     ]
    },
    {
     "name": "stdout",
     "output_type": "stream",
     "text": [
      "White player wins!!\n",
      "Black chips = 25\n",
      "White chips = 39\n"
     ]
    },
    {
     "name": "stdout",
     "output_type": "stream",
     "text": [
      "White player wins!!\n",
      "Black chips = 28\n",
      "White chips = 36\n"
     ]
    },
    {
     "name": "stdout",
     "output_type": "stream",
     "text": [
      "Black player wins!!\n",
      "Black chips = 55\n",
      "White chips = 9\n"
     ]
    },
    {
     "name": "stdout",
     "output_type": "stream",
     "text": [
      "Black player wins!!\n",
      "Black chips = 60\n",
      "White chips = 2\n"
     ]
    },
    {
     "name": "stdout",
     "output_type": "stream",
     "text": [
      "Black player wins!!\n",
      "Black chips = 55\n",
      "White chips = 7\n"
     ]
    },
    {
     "name": "stdout",
     "output_type": "stream",
     "text": [
      "Black player wins!!\n",
      "Black chips = 51\n",
      "White chips = 13\n"
     ]
    },
    {
     "name": "stdout",
     "output_type": "stream",
     "text": [
      "Black player wins!!\n",
      "Black chips = 55\n",
      "White chips = 9\n"
     ]
    },
    {
     "name": "stdout",
     "output_type": "stream",
     "text": [
      "Black player wins!!\n",
      "Black chips = 34\n",
      "White chips = 30\n"
     ]
    },
    {
     "name": "stdout",
     "output_type": "stream",
     "text": [
      "White player wins!!\n",
      "Black chips = 20\n",
      "White chips = 44\n"
     ]
    }
   ],
   "source": [
    "for i in range(0,42):\n",
    "    play_game(Othello(), alphabeta_player(3,eval_fn), random_player)"
   ]
  }
 ],
 "metadata": {
  "kernelspec": {
   "display_name": "Python 3 (Anaconda 5)",
   "language": "python",
   "name": "anaconda5"
  },
  "language_info": {
   "codemirror_mode": {
    "name": "ipython",
    "version": 3
   },
   "file_extension": ".py",
   "mimetype": "text/x-python",
   "name": "python",
   "nbconvert_exporter": "python",
   "pygments_lexer": "ipython3",
   "version": "3.6.5"
  }
 },
 "nbformat": 4,
 "nbformat_minor": 0
}