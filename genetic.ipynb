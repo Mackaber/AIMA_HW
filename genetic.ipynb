{
 "cells": [
  {
   "cell_type": "code",
   "execution_count": 1,
   "metadata": {
    "collapsed": false
   },
   "outputs": [
   ],
   "source": [
    "import numpy as np\n",
    "import random\n",
    "import decimal\n",
    "\n",
    "# Toy Problem\n",
    "t = np.array([[1,1,0,0,1,0], [1,0,0,1,1,1], [0,0,1,1,1,1], [1,1,1,1,1,1], [0,0,0,1,1,1], [1,1,1,1,0,0]])\n",
    "sens = [3,2,2,1]\n",
    "n = len(sens)\n",
    "\n",
    "#sol = [(0,0), (0,4), (3,4), (4,2)]\n",
    "\n",
    "# Predefined variables\n",
    "gen_n = 100 # Number of generations\n",
    "pop_n = 20  # Population size\n",
    "mut_prob = 0.02 # Probability of mutation"
   ]
  },
  {
   "cell_type": "code",
   "execution_count": 2,
   "metadata": {
    "collapsed": false
   },
   "outputs": [
    {
     "data": {
      "text/plain": [
       "[[(2, 2), (0, 2), (1, 1), (0, 2)],\n",
       " [(0, 0), (3, 2), (2, 1), (2, 3)],\n",
       " [(1, 2), (3, 2), (3, 2), (4, 1)],\n",
       " [(2, 0), (0, 3), (2, 2), (3, 0)],\n",
       " [(1, 2), (0, 2), (0, 0), (4, 0)],\n",
       " [(0, 0), (0, 2), (0, 3), (3, 2)],\n",
       " [(1, 2), (2, 3), (0, 1), (0, 3)],\n",
       " [(0, 1), (3, 3), (3, 1), (1, 1)],\n",
       " [(0, 2), (1, 2), (0, 2), (4, 4)],\n",
       " [(1, 2), (1, 1), (2, 0), (2, 1)]]"
      ]
     },
     "execution_count": 2,
     "metadata": {
     },
     "output_type": "execute_result"
    }
   ],
   "source": [
    "#Checks if its valid the position\n",
    "def check_position(sensor,pos,size):\n",
    "    x = pos[0]+sensor-1\n",
    "    y = pos[1]+sensor-1\n",
    "    cont = True\n",
    "    if(x > (size - 1) or y > (size - 1)):\n",
    "        cont = False\n",
    "    return cont\n",
    "\n",
    "# gen_population(sensors, number of the population)\n",
    "def gen_population(sens,n,size):\n",
    "    population = []\n",
    "    for i in range(n):\n",
    "        localSol = []\n",
    "        for se in sens:\n",
    "            cont = True\n",
    "            pos = (0,0)\n",
    "            while cont:\n",
    "                x = random.randint(0,size - 1)\n",
    "                y = random.randint(0,size - 1)\n",
    "                pos = (x,y)\n",
    "                cont = not check_position(se,pos,size)\n",
    "            localSol.append(pos)\n",
    "        population.append(localSol)\n",
    "    return population\n",
    "\n",
    "gen_population(sens,10,5)"
   ]
  },
  {
   "cell_type": "code",
   "execution_count": 3,
   "metadata": {
    "collapsed": false
   },
   "outputs": [
    {
     "data": {
      "text/plain": [
       "11"
      ]
     },
     "execution_count": 3,
     "metadata": {
     },
     "output_type": "execute_result"
    }
   ],
   "source": [
    "# Generates the solution terrain gen_sol_t(solution, sensors)\n",
    "def gen_sol_t(sol,sens,t,numbers=False):\n",
    "    gen_sol = np.zeros_like(t)\n",
    "    for i, sen in enumerate(sens):\n",
    "        pos = sol[i]\n",
    "        for x in range(pos[0],pos[0] + sen):\n",
    "            for y in range(pos[1],pos[1] + sen):\n",
    "                if numbers:\n",
    "                    gen_sol[x][y] = i + 1\n",
    "                else:\n",
    "                    gen_sol[x][y] = 1\n",
    "    return np.array(gen_sol)\n",
    "\n",
    "# fev(terrain, sensors, solution)\n",
    "def fev(t,sens,sol):\n",
    "    return np.sum(np.multiply(t,gen_sol_t(sol,sens,t)))\n",
    "\n",
    "sol = [(0,0), (0,4), (3,4), (4,2)]\n",
    "fev(t,sens,sol)"
   ]
  },
  {
   "cell_type": "code",
   "execution_count": 4,
   "metadata": {
    "collapsed": false
   },
   "outputs": [
   ],
   "source": [
    "class Individual(object):\n",
    "    def __init__(self, sol, fitness):\n",
    "        self.sol = sol\n",
    "        self.fitness = fitness\n",
    "    def __repr__(self):\n",
    "        return '{}: {} {}'.format(self.__class__.__name__,\n",
    "                                  self.sol,\n",
    "                                  self.fitness)\n",
    "\n",
    "def ranking(population):\n",
    "    individuals = []\n",
    "    for individual in population:\n",
    "        fit = fev(t,sens,individual)\n",
    "        individuals.append(Individual(individual,fit))\n",
    "    sortedIndividuals = sorted(individuals, key=getKey, reverse=True)\n",
    "    ranking_population = []\n",
    "    for individual in sortedIndividuals:\n",
    "        ranking_population.append(individual.sol)\n",
    "    return ranking_population\n",
    "\n",
    "def getKey(custom):\n",
    "    return custom.fitness\n",
    "\n",
    "def roulette(population):\n",
    "    S = 0\n",
    "    individuals = []\n",
    "    for individual in population:\n",
    "        fit = fev(t,sens,individual)\n",
    "        individuals.append(Individual(individual,fit))\n",
    "        S = S + fit\n",
    "    sortedIndividuals = sorted(individuals, key=getKey, reverse=True)\n",
    "    P = 0\n",
    "    # Prevent S = 0 ALl parents are bad\n",
    "    if S == 0:\n",
    "        rndNum = random.randint(0,len(sortedIndividuals)-1)\n",
    "        individual = sortedIndividuals[rndNum]\n",
    "        return {\"ind\":individual,\"pop\":sortedIndividuals}\n",
    "        R = fit = float(decimal.Decimal(random.randrange(0, 1*100))/100)\n",
    "    else:\n",
    "        R = fit = float(decimal.Decimal(random.randrange(0, S*100))/100)\n",
    "    for individual in sortedIndividuals:\n",
    "        P = P + individual.fitness\n",
    "        if(P >= R):\n",
    "            return {\"ind\":individual,\"pop\":sortedIndividuals}\n",
    "    return sortedIndividuals[0]\n",
    "\n",
    "def get_parents(population):\n",
    "    cycle1 = roulette(population)\n",
    "    parent1 = cycle1[\"ind\"]\n",
    "    population.remove(parent1.sol)\n",
    "    cycle2 = roulette(population)\n",
    "    #print(cycle2)\n",
    "    parent2 = cycle2[\"ind\"]\n",
    "    return [parent1.sol,parent2.sol]\n",
    "\n",
    "#pop = gen_population(sens,10,9)\n",
    "#pop\n",
    "#get_parents(pop)\n"
   ]
  },
  {
   "cell_type": "code",
   "execution_count": 5,
   "metadata": {
    "collapsed": false
   },
   "outputs": [
    {
     "data": {
      "text/plain": [
       "([(1, 1), (1, 2)], [(3, 4), (2, 2)])"
      ]
     },
     "execution_count": 5,
     "metadata": {
     },
     "output_type": "execute_result"
    }
   ],
   "source": [
    "# crossover(solution 1, solution 2, cross-over point) ** Crossover point starts at 1\n",
    "def crossover(sol1,sol2,cop):\n",
    "    new_sol1 = []\n",
    "    new_sol2 = []\n",
    "\n",
    "    for i in range(len(sol1)):\n",
    "        if i < cop:\n",
    "            new_sol1.append(sol1[i])\n",
    "            new_sol2.append(sol2[i])\n",
    "        else:\n",
    "            new_sol1.append(sol2[i])\n",
    "            new_sol2.append(sol1[i])\n",
    "    return new_sol1, new_sol2\n",
    "crossover([(1,1),(2,2)],[(3,4),(1,2)],1)"
   ]
  },
  {
   "cell_type": "code",
   "execution_count": 6,
   "metadata": {
    "collapsed": false
   },
   "outputs": [
    {
     "data": {
      "text/plain": [
       "[(0, 0), (0, 4), (3, 2), (2, 2)]"
      ]
     },
     "execution_count": 6,
     "metadata": {
     },
     "output_type": "execute_result"
    }
   ],
   "source": [
    "def mutate(sol,prob,n):\n",
    "    mutate_sol = np.array(sol)\n",
    "    new_list = []\n",
    "    for i in range(len(sol)):\n",
    "        for j in range(2):\n",
    "            if random.random() < prob:\n",
    "                mutate_sol[i][j] = random.randint(0,n)\n",
    "            else:\n",
    "                pass\n",
    "        cond = check_position(sens[i],tuple(mutate_sol[i]),n)\n",
    "        if(cond):\n",
    "            new_list.append(tuple(mutate_sol[i]))\n",
    "        else:\n",
    "            new_list.append(sol[i])\n",
    "        #print(new_list)\n",
    "    #tupla = tuple(mutate_sol)\n",
    "    return new_list\n",
    "sol = [(0,0), (0,4), (3,4), (4,2)]\n",
    "mutate(sol, 0.3, 5)"
   ]
  },
  {
   "cell_type": "code",
   "execution_count": 7,
   "metadata": {
    "collapsed": false
   },
   "outputs": [
    {
     "name": "stdout",
     "output_type": "stream",
     "text": [
      "  1 2 3 4 5 6                1 2 3 4 5 6 \n",
      "1 - - X X - X              1 1 1 # X 2 # \n",
      "2 - X X - - -              2 1 # # - 2 2 \n",
      "3 X X - - - -      ==>     3 # # 1 - - - \n",
      "4 - - - - - -              4 - - - - 3 3 \n",
      "5 X X X - - -              5 X X X 4 3 3 \n",
      "6 - - - - X X              6 - - - - X X \n"
     ]
    }
   ],
   "source": [
    "def disp_symbol(t,sol=False):\n",
    "    if sol:\n",
    "        if(t == 1 and sol != 0):\n",
    "            return sol\n",
    "        elif(t == 0 and sol != 0):\n",
    "            return \"#\"\n",
    "        else:\n",
    "            return \"-\"\n",
    "    else:\n",
    "        if(t == 0):\n",
    "            return \"X\"\n",
    "        else:\n",
    "            return \"-\"\n",
    "\n",
    "def display_solution(t,sol,sens):\n",
    "    n = len(t)\n",
    "    print(\"  \",end='')\n",
    "    for i in range(1,n +1):\n",
    "        print(i,end=\" \")\n",
    "    print(\"               \",end='')\n",
    "    for i in range(1,n +1):\n",
    "        print(i,end=\" \")\n",
    "    print()\n",
    "    for y in range(0,n):\n",
    "        print(y+1,end=' ')\n",
    "        for x in range(0,n):\n",
    "            print(disp_symbol(t[y][x]),end=' ')\n",
    "        if((y+1) == int(n/2)):\n",
    "            print(\"     ==>     \",end='')\n",
    "        else:\n",
    "            print(\"             \",end='')\n",
    "        print(y+1,end=' ')\n",
    "        for x in range(0,n):\n",
    "            print(disp_symbol(t[y][x],gen_sol_t(sol,sens,t,True)[y][x]),end=' ')\n",
    "        print()\n",
    "sol = [(0,0), (0,4), (3,4), (4,3)]\n",
    "display_solution(t,sol,sens)"
   ]
  },
  {
   "cell_type": "code",
   "execution_count": 8,
   "metadata": {
    "collapsed": false
   },
   "outputs": [
   ],
   "source": [
    "def run(t,sens,gen_n,pop_n,mut_prob,n,print_current=False):\n",
    "    pop = gen_population(sens,pop_n,len(t))\n",
    "    new_pop = []\n",
    "    for i in range(gen_n):\n",
    "        for j in range(int(pop_n/2)):\n",
    "            parents = get_parents(pop)\n",
    "            inds = crossover(parents[0],parents[1],random.randint(0,n))\n",
    "            new_pop.append(mutate(inds[0],mut_prob,n))\n",
    "            new_pop.append(mutate(inds[1],mut_prob,n))\n",
    "        if print_current:\n",
    "            print(\"Current Best: \",ranking(new_pop)[0],\", FEV: \",fev(t,sens,ranking(new_pop)[0]))\n",
    "            print()\n",
    "            display_solution(t,ranking(new_pop)[0],sens)\n",
    "        pop = new_pop\n",
    "    print(\"Best: \",ranking(new_pop)[0],\", FEV: \",fev(t,sens,ranking(new_pop)[0]))\n",
    "    print()\n",
    "    display_solution(t,ranking(new_pop)[0],sens)\n",
    "\n",
    "#run(t,sens,gen_n,pop_n,mut_prob)"
   ]
  },
  {
   "cell_type": "markdown",
   "metadata": {
    "collapsed": false
   },
   "source": [
    "# Problems"
   ]
  },
  {
   "cell_type": "markdown",
   "metadata": {
    "collapsed": false
   },
   "source": [
    "Pop = 20| Mut 2% | Gen = 50"
   ]
  },
  {
   "cell_type": "code",
   "execution_count": 12,
   "metadata": {
    "collapsed": false
   },
   "outputs": [
    {
     "name": "stdout",
     "output_type": "stream",
     "text": [
      "Best:  [(2, 3), (0, 0), (4, 2), (3, 2)] , FEV:  15\n",
      "\n",
      "  1 2 3 4 5 6                1 2 3 4 5 6 \n",
      "1 - - X X - X              1 2 2 X X - X \n",
      "2 - X X - - -              2 2 # X - - - \n",
      "3 X X - - - -      ==>     3 X X - 1 1 1 \n",
      "4 - - - - - -              4 - - 4 1 1 1 \n",
      "5 X X X - - -              5 X X # 3 1 1 \n",
      "6 - - - - X X              6 - - 3 3 X X \n"
     ]
    }
   ],
   "source": [
    "# Toy Problem\n",
    "t = np.array([[1,1,0,0,1,0],\n",
    "              [1,0,0,1,1,1],\n",
    "              [0,0,1,1,1,1],\n",
    "              [1,1,1,1,1,1],\n",
    "              [0,0,0,1,1,1],\n",
    "              [1,1,1,1,0,0]])\n",
    "sens = [3,2,2,1]\n",
    "n = len(sens)\n",
    "\n",
    "# Predefined variables\n",
    "gen_n = 50\n",
    "pop_n = 20\n",
    "mut_prob = 0.02\n",
    "\n",
    "run(t,sens,gen_n,pop_n,mut_prob,n)"
   ]
  },
  {
   "cell_type": "code",
   "execution_count": 13,
   "metadata": {
    "collapsed": false
   },
   "outputs": [
    {
     "name": "stdout",
     "output_type": "stream",
     "text": [
      "Best:  [(3, 6), (5, 0), (0, 7), (2, 3), (3, 2)] , FEV:  27\n",
      "\n",
      "  1 2 3 4 5 6 7 8 9                1 2 3 4 5 6 7 8 9 \n",
      "1 - - X X - X - - -              1 - - X X - X - 3 3 \n",
      "2 - X X - - - - - -              2 - X X - - - - 3 3 \n",
      "3 X X - - - - X X -              3 X X - 4 4 4 X X - \n",
      "4 - - - - - - - - -      ==>     4 - - 5 4 4 4 1 1 1 \n",
      "5 X X X - - - - - -              5 X X X 4 4 4 1 1 1 \n",
      "6 - - - - X X - - -              6 2 2 - - X X 1 1 1 \n",
      "7 - - X - - X X X -              7 2 2 X - - X X X - \n",
      "8 - - X - - X X X -              8 - - X - - X X X - \n",
      "9 - - - - - X X X -              9 - - - - - X X X - \n"
     ]
    }
   ],
   "source": [
    "# Random Problem\n",
    "t = np.array([[1,1,0,0,1,0,1,1,1],\n",
    "              [1,0,0,1,1,1,1,1,1],\n",
    "              [0,0,1,1,1,1,0,0,1],\n",
    "              [1,1,1,1,1,1,1,1,1],\n",
    "              [0,0,0,1,1,1,1,1,1],\n",
    "              [1,1,1,1,0,0,1,1,1],\n",
    "              [1,1,0,1,1,0,0,0,1],\n",
    "              [1,1,0,1,1,0,0,0,1],\n",
    "              [1,1,1,1,1,0,0,0,1]])\n",
    "sens = [3,2,2,3,1]\n",
    "n = len(sens)\n",
    "\n",
    "# Predefined variables\n",
    "gen_n = 50\n",
    "pop_n = 20\n",
    "mut_prob = 0.02\n",
    "\n",
    "run(t,sens,gen_n,pop_n,mut_prob,n)"
   ]
  },
  {
   "cell_type": "code",
   "execution_count": 23,
   "metadata": {
    "collapsed": false
   },
   "outputs": [
    {
     "name": "stdout",
     "output_type": "stream",
     "text": [
      "Best:  [(4, 4)] , FEV:  1\n",
      "\n",
      "  1 2 3 4 5 6 7 8 9                1 2 3 4 5 6 7 8 9 \n",
      "1 X X X X X X X X X              1 X X X X X X X X X \n",
      "2 X X X X X X X X X              2 X X X X X X X X X \n",
      "3 X X X X X X X X X              3 X X X X X X X X X \n",
      "4 X X X X X X X X X      ==>     4 X X X X X X X X X \n",
      "5 X X X X X X X X X              5 X X X X # # X X X \n",
      "6 X X X X X - - X X              6 X X X X # 1 - X X \n",
      "7 X X X X X - - X X              7 X X X X X - - X X \n",
      "8 X X X X X X X X X              8 X X X X X X X X X \n",
      "9 X X X X X X X X X              9 X X X X X X X X X \n"
     ]
    }
   ],
   "source": [
    "# Solitaire Problem\n",
    "t = np.array([[0,0,0,0,0,0,0,0,0],\n",
    "              [0,0,0,0,0,0,0,0,0],\n",
    "              [0,0,0,0,0,0,0,0,0],\n",
    "              [0,0,0,0,0,0,0,0,0],\n",
    "              [0,0,0,0,0,0,0,0,0],\n",
    "              [0,0,0,0,0,1,1,0,0],\n",
    "              [0,0,0,0,0,1,1,0,0],\n",
    "              [0,0,0,0,0,0,0,0,0],\n",
    "              [0,0,0,0,0,0,0,0,0]])\n",
    "sens = [2]\n",
    "n = len(sens)\n",
    "\n",
    "# Predefined variables\n",
    "gen_n = 50\n",
    "pop_n = 20\n",
    "mut_prob = 0.02\n",
    "\n",
    "run(t,sens,gen_n,pop_n,mut_prob,n)"
   ]
  },
  {
   "cell_type": "code",
   "execution_count": 26,
   "metadata": {
    "collapsed": false
   },
   "outputs": [
    {
     "name": "stdout",
     "output_type": "stream",
     "text": [
      "Best:  [(3, 1), (0, 0), (1, 0), (1, 4), (1, 5), (0, 1)] , FEV:  16\n",
      "\n",
      "  1 2 3 4 5 6 7 8                1 2 3 4 5 6 7 8 \n",
      "1 - - - X X X X X              1 2 6 6 # X X X X \n",
      "2 - - - X - - - X              2 3 6 6 # 4 5 5 # \n",
      "3 - - - X - - - X              3 - 6 6 # 4 5 5 # \n",
      "4 X X X X - - - X      ==>     4 X # X X - 5 5 # \n",
      "5 X X X - X X X X              5 X X X - X X X X \n",
      "6 - X X X X - - X              6 - X X X X - - X \n",
      "7 X X X X X - - X              7 X X X X X - - X \n",
      "8 - X X X X X X X              8 - X X X X X X X \n"
     ]
    }
   ],
   "source": [
    "# PERFECT MATCH\n",
    "t = np.array([[1,1,1,0,0,0,0,0],\n",
    "              [1,1,1,0,1,1,1,0],\n",
    "              [1,1,1,0,1,1,1,0],\n",
    "              [0,0,0,0,1,1,1,0],\n",
    "              [0,0,0,1,0,0,0,0],\n",
    "              [1,0,0,0,0,1,1,0],\n",
    "              [0,0,0,0,0,1,1,0],\n",
    "              [1,0,0,0,0,0,0,0]])\n",
    "sens = [1,1,1,2,3,3]\n",
    "n = len(sens)\n",
    "\n",
    "# Predefined variables\n",
    "gen_n = 50\n",
    "pop_n = 20\n",
    "mut_prob = 0.02\n",
    "run(t,sens,gen_n,pop_n,mut_prob,n)"
   ]
  },
  {
   "cell_type": "code",
   "execution_count": 18,
   "metadata": {
    "collapsed": false
   },
   "outputs": [
    {
     "name": "stdout",
     "output_type": "stream",
     "text": [
      "Best:  [(3, 1), (0, 6), (6, 6), (0, 1), (0, 2), (3, 4)] , FEV:  32\n",
      "\n",
      "  1 2 3 4 5 6 7 8 9 10                1 2 3 4 5 6 7 8 9 10 \n",
      "1 - X - X - X - X - X              1 - # 5 X - X 2 # 2 # \n",
      "2 X - - X X - - X - -              2 X 4 4 X X - 2 # 2 2 \n",
      "3 X X X X X X X X X X              3 X X X X X X # # # # \n",
      "4 X X - - - X X X - -              4 X # 1 1 6 # # # 2 2 \n",
      "5 - - - - - - - - - -      ==>     5 - 1 1 1 1 1 - - - - \n",
      "6 X X - - - X - X X -              6 X # 1 1 1 # - X X - \n",
      "7 X X - - - X - X - -              7 X # 1 1 1 # 3 # 3 - \n",
      "8 X - X - X - - - X -              8 X 1 # 1 # 1 3 3 # - \n",
      "9 - X X - X X - X X -              9 - X X - X X 3 # # - \n",
      "10 - X X X X X X X X X              10 - X X X X X X X X X \n"
     ]
    }
   ],
   "source": [
    "# Big MATCH\n",
    "t = np.array([[1,0,1,0,1,0,1,0,1,0],\n",
    "              [0,1,1,0,0,1,1,0,1,1],\n",
    "              [0,0,0,0,0,0,0,0,0,0],\n",
    "              [0,0,1,1,1,0,0,0,1,1],\n",
    "              [1,1,1,1,1,1,1,1,1,1],\n",
    "              [0,0,1,1,1,0,1,0,0,1],\n",
    "              [0,0,1,1,1,0,1,0,1,1],\n",
    "              [0,1,0,1,0,1,1,1,0,1],\n",
    "              [1,0,0,1,0,0,1,0,0,1],\n",
    "              [1,0,0,0,0,0,0,0,0,0]])\n",
    "sens = [5,4,3,2,1,1]\n",
    "n = len(sens)\n",
    "\n",
    "# Predefined variables\n",
    "gen_n = 50\n",
    "pop_n = 20\n",
    "mut_prob = 0.02\n",
    "run(t,sens,gen_n,pop_n,mut_prob,n)"
   ]
  },
  {
   "cell_type": "markdown",
   "metadata": {
    "collapsed": false
   },
   "source": [
    "Pop = 50| Mut 5% | Gen = 20"
   ]
  },
  {
   "cell_type": "code",
   "execution_count": 19,
   "metadata": {
    "collapsed": false
   },
   "outputs": [
    {
     "name": "stdout",
     "output_type": "stream",
     "text": [
      "Best:  [(2, 3), (2, 1), (0, 4), (1, 0)] , FEV:  16\n",
      "\n",
      "  1 2 3 4 5 6                1 2 3 4 5 6 \n",
      "1 - - X X - X              1 - - X X 3 # \n",
      "2 - X X - - -              2 4 X X - 3 3 \n",
      "3 X X - - - -      ==>     3 X # 2 1 1 1 \n",
      "4 - - - - - -              4 - 2 2 1 1 1 \n",
      "5 X X X - - -              5 X X X 1 1 1 \n",
      "6 - - - - X X              6 - - - - X X \n"
     ]
    }
   ],
   "source": [
    "# Toy Problem\n",
    "t = np.array([[1,1,0,0,1,0],\n",
    "              [1,0,0,1,1,1],\n",
    "              [0,0,1,1,1,1],\n",
    "              [1,1,1,1,1,1],\n",
    "              [0,0,0,1,1,1],\n",
    "              [1,1,1,1,0,0]])\n",
    "sens = [3,2,2,1]\n",
    "n = len(sens)\n",
    "\n",
    "# Predefined variables\n",
    "gen_n = 20\n",
    "pop_n = 50\n",
    "mut_prob = 0.05\n",
    "\n",
    "run(t,sens,gen_n,pop_n,mut_prob,n)"
   ]
  },
  {
   "cell_type": "code",
   "execution_count": 20,
   "metadata": {
    "collapsed": false
   },
   "outputs": [
    {
     "name": "stdout",
     "output_type": "stream",
     "text": [
      "Best:  [(0, 6), (3, 7), (6, 0), (2, 3), (8, 6)] , FEV:  24\n",
      "\n",
      "  1 2 3 4 5 6 7 8 9                1 2 3 4 5 6 7 8 9 \n",
      "1 - - X X - X - - -              1 - - X X - X 1 1 1 \n",
      "2 - X X - - - - - -              2 - X X - - - 1 1 1 \n",
      "3 X X - - - - X X -              3 X X - 4 4 4 # # 1 \n",
      "4 - - - - - - - - -      ==>     4 - - - 4 4 4 - 2 2 \n",
      "5 X X X - - - - - -              5 X X X 4 4 4 - 2 2 \n",
      "6 - - - - X X - - -              6 - - - - X X - - - \n",
      "7 - - X - - X X X -              7 3 3 X - - X X X - \n",
      "8 - - X - - X X X -              8 3 3 X - - X X X - \n",
      "9 - - - - - X X X -              9 - - - - - X # X - \n"
     ]
    }
   ],
   "source": [
    "# Random Problem\n",
    "t = np.array([[1,1,0,0,1,0,1,1,1],\n",
    "              [1,0,0,1,1,1,1,1,1],\n",
    "              [0,0,1,1,1,1,0,0,1],\n",
    "              [1,1,1,1,1,1,1,1,1],\n",
    "              [0,0,0,1,1,1,1,1,1],\n",
    "              [1,1,1,1,0,0,1,1,1],\n",
    "              [1,1,0,1,1,0,0,0,1],\n",
    "              [1,1,0,1,1,0,0,0,1],\n",
    "              [1,1,1,1,1,0,0,0,1]])\n",
    "sens = [3,2,2,3,1]\n",
    "n = len(sens)\n",
    "\n",
    "# Predefined variables\n",
    "gen_n = 20\n",
    "pop_n = 50\n",
    "mut_prob = 0.05\n",
    "\n",
    "run(t,sens,gen_n,pop_n,mut_prob,n)"
   ]
  },
  {
   "cell_type": "code",
   "execution_count": 22,
   "metadata": {
    "collapsed": false
   },
   "outputs": [
    {
     "name": "stdout",
     "output_type": "stream",
     "text": [
      "Best:  [(6, 5)] , FEV:  2\n",
      "\n",
      "  1 2 3 4 5 6 7 8 9                1 2 3 4 5 6 7 8 9 \n",
      "1 X X X X X X X X X              1 X X X X X X X X X \n",
      "2 X X X X X X X X X              2 X X X X X X X X X \n",
      "3 X X X X X X X X X              3 X X X X X X X X X \n",
      "4 X X X X X X X X X      ==>     4 X X X X X X X X X \n",
      "5 X X X X X X X X X              5 X X X X X X X X X \n",
      "6 X X X X X - - X X              6 X X X X X - - X X \n",
      "7 X X X X X - - X X              7 X X X X X 1 1 X X \n",
      "8 X X X X X X X X X              8 X X X X X # # X X \n",
      "9 X X X X X X X X X              9 X X X X X X X X X \n"
     ]
    }
   ],
   "source": [
    "# Solitaire Problem\n",
    "t = np.array([[0,0,0,0,0,0,0,0,0],\n",
    "              [0,0,0,0,0,0,0,0,0],\n",
    "              [0,0,0,0,0,0,0,0,0],\n",
    "              [0,0,0,0,0,0,0,0,0],\n",
    "              [0,0,0,0,0,0,0,0,0],\n",
    "              [0,0,0,0,0,1,1,0,0],\n",
    "              [0,0,0,0,0,1,1,0,0],\n",
    "              [0,0,0,0,0,0,0,0,0],\n",
    "              [0,0,0,0,0,0,0,0,0]])\n",
    "sens = [2]\n",
    "n = len(sens)\n",
    "\n",
    "# Predefined variables\n",
    "gen_n = 20\n",
    "pop_n = 50\n",
    "mut_prob = 0.05\n",
    "\n",
    "run(t,sens,gen_n,pop_n,mut_prob,n)"
   ]
  },
  {
   "cell_type": "code",
   "execution_count": 24,
   "metadata": {
    "collapsed": false
   },
   "outputs": [
    {
     "name": "stdout",
     "output_type": "stream",
     "text": [
      "Best:  [(1, 4), (4, 3), (3, 3), (4, 0), (2, 4), (0, 0)] , FEV:  18\n",
      "\n",
      "  1 2 3 4 5 6 7 8                1 2 3 4 5 6 7 8 \n",
      "1 - - - X X X X X              1 6 6 6 X X X X X \n",
      "2 - - - X - - - X              2 6 6 6 X 1 - - X \n",
      "3 - - - X - - - X              3 6 6 6 X 5 5 5 X \n",
      "4 X X X X - - - X      ==>     4 X X X # 5 5 5 X \n",
      "5 X X X - X X X X              5 # # X 2 # # # X \n",
      "6 - X X X X - - X              6 4 # X X X - - X \n",
      "7 X X X X X - - X              7 X X X X X - - X \n",
      "8 - X X X X X X X              8 - X X X X X X X \n"
     ]
    }
   ],
   "source": [
    "# PERFECT MATCH\n",
    "t = np.array([[1,1,1,0,0,0,0,0],\n",
    "              [1,1,1,0,1,1,1,0],\n",
    "              [1,1,1,0,1,1,1,0],\n",
    "              [0,0,0,0,1,1,1,0],\n",
    "              [0,0,0,1,0,0,0,0],\n",
    "              [1,0,0,0,0,1,1,0],\n",
    "              [0,0,0,0,0,1,1,0],\n",
    "              [1,0,0,0,0,0,0,0]])\n",
    "sens = [1,1,1,2,3,3]\n",
    "n = len(sens)\n",
    "\n",
    "# Predefined variables\n",
    "gen_n = 20\n",
    "pop_n = 50\n",
    "mut_prob = 0.05\n",
    "\n",
    "run(t,sens,gen_n,pop_n,mut_prob,n)"
   ]
  },
  {
   "cell_type": "code",
   "execution_count": 25,
   "metadata": {
    "collapsed": false
   },
   "outputs": [
    {
     "name": "stdout",
     "output_type": "stream",
     "text": [
      "Best:  [(2, 1), (4, 6), (7, 3), (3, 7), (1, 6), (0, 0)] , FEV:  32\n",
      "\n",
      "  1 2 3 4 5 6 7 8 9 10                1 2 3 4 5 6 7 8 9 10 \n",
      "1 - X - X - X - X - X              1 6 X - X - X - X - X \n",
      "2 X - - X X - - X - -              2 X - - X X - 5 X - - \n",
      "3 X X X X X X X X X X              3 X # # # # # X X X X \n",
      "4 X X - - - X X X - -              4 X # 1 1 1 # X # 4 - \n",
      "5 - - - - - - - - - -      ==>     5 - 1 1 1 1 1 2 4 4 2 \n",
      "6 X X - - - X - X X -              6 X # 1 1 1 # 2 # # 2 \n",
      "7 X X - - - X - X - -              7 X # 1 1 1 # 2 # 2 2 \n",
      "8 X - X - X - - - X -              8 X - X 3 # 3 2 2 # 2 \n",
      "9 - X X - X X - X X -              9 - X X 3 # # - X X - \n",
      "10 - X X X X X X X X X              10 - X X # # # X X X X \n"
     ]
    }
   ],
   "source": [
    "# Big MATCH\n",
    "t = np.array([[1,0,1,0,1,0,1,0,1,0],\n",
    "              [0,1,1,0,0,1,1,0,1,1],\n",
    "              [0,0,0,0,0,0,0,0,0,0],\n",
    "              [0,0,1,1,1,0,0,0,1,1],\n",
    "              [1,1,1,1,1,1,1,1,1,1],\n",
    "              [0,0,1,1,1,0,1,0,0,1],\n",
    "              [0,0,1,1,1,0,1,0,1,1],\n",
    "              [0,1,0,1,0,1,1,1,0,1],\n",
    "              [1,0,0,1,0,0,1,0,0,1],\n",
    "              [1,0,0,0,0,0,0,0,0,0]])\n",
    "sens = [5,4,3,2,1,1]\n",
    "n = len(sens)\n",
    "\n",
    "# Predefined variables\n",
    "gen_n = 20\n",
    "pop_n = 50\n",
    "mut_prob = 0.05\n",
    "\n",
    "run(t,sens,gen_n,pop_n,mut_prob,n)"
   ]
  }
 ],
 "metadata": {
  "kernelspec": {
   "display_name": "Python 3 (Anaconda 5)",
   "language": "python",
   "name": "anaconda5"
  },
  "language_info": {
   "codemirror_mode": {
    "name": "ipython",
    "version": 3
   },
   "file_extension": ".py",
   "mimetype": "text/x-python",
   "name": "python",
   "nbconvert_exporter": "python",
   "pygments_lexer": "ipython3",
   "version": "3.6.5"
  }
 },
 "nbformat": 4,
 "nbformat_minor": 0
}