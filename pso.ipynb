{
 "cells": [
  {
   "cell_type": "code",
   "execution_count": 1,
   "metadata": {
    "collapsed": false
   },
   "outputs": [
   ],
   "source": [
    "import numpy as np\n",
    "import random\n",
    "\n",
    "# Toy Problem\n",
    "t = np.array([[1,1,0,0,1,0], [1,0,0,1,1,1], [0,0,1,1,1,1], [1,1,1,1,1,1], [0,0,0,1,1,1], [1,1,1,1,0,0]])\n",
    "sens = [3,2,2,1]\n",
    "n = len(sens)\n",
    "\n",
    "#sol = [(0,0), (0,4), (3,4), (4,2)]\n",
    "\n",
    "# Predefined variables\n",
    "max_gens = 100 # maximun number of generations\n",
    "pop_size = 50 # number of particles\n",
    "max_vel = 2 # maximum velocity\n",
    "c1, c2 = 2.0, 2.0\n",
    "neighborhood = 2"
   ]
  },
  {
   "cell_type": "code",
   "execution_count": 2,
   "metadata": {
    "collapsed": false
   },
   "outputs": [
   ],
   "source": [
    "def disp_symbol(t,sol=False):\n",
    "    if sol:\n",
    "        if(t == 1 and sol != 0):\n",
    "            return sol\n",
    "        elif(t == 0 and sol != 0):\n",
    "            return \"#\"\n",
    "        else:\n",
    "            return \"-\"\n",
    "    else:\n",
    "        if(t == 0):\n",
    "            return \"X\"\n",
    "        else:\n",
    "            return \"-\"\n",
    "\n",
    "def display_solution(t,sol,sens):\n",
    "    n = len(t)\n",
    "    print(\"  \",end='')\n",
    "    for i in range(1,n +1):\n",
    "        print(i,end=\" \")\n",
    "    print(\"               \",end='')\n",
    "    for i in range(1,n +1):\n",
    "        print(i,end=\" \")\n",
    "    print()\n",
    "    for y in range(0,n):\n",
    "        print(y+1,end=' ')\n",
    "        for x in range(0,n):\n",
    "            print(disp_symbol(t[y][x]),end=' ')\n",
    "        if((y+1) == int(n/2)):\n",
    "            print(\"     ==>     \",end='')\n",
    "        else:\n",
    "            print(\"             \",end='')\n",
    "        print(y+1,end=' ')\n",
    "        for x in range(0,n):\n",
    "            print(disp_symbol(t[y][x],gen_sol_t(sol,sens,t,True)[y][x]),end=' ')\n",
    "        print()\n",
    "#sol = [(0,0), (0,4), (3,4), (4,3)]\n",
    "#display_solution(t,sol,sens)"
   ]
  },
  {
   "cell_type": "code",
   "execution_count": 75,
   "metadata": {
    "collapsed": false
   },
   "outputs": [
   ],
   "source": [
    "class Particle:\n",
    "    def __init__(self,t,sens,sol):\n",
    "        self.t = t\n",
    "        self.sens = sens\n",
    "        self.sol = sol # [(),(),(),etc...]\n",
    "        self.fit = fev(t,sens,sol)\n",
    "        self.vel =[]\n",
    "        for i,sens in enumerate(self.sens):\n",
    "            self.vel.append(random.randint(-max_vel,max_vel))\n",
    "            #self.vel.append(8)\n",
    "        self.best = self\n",
    "    def __repr__(self):\n",
    "        return '{}: {} FEV: {} V: {}'.format(self.__class__.__name__,\n",
    "                                  self.sol,\n",
    "                                  self.fit,\n",
    "                                  self.vel)\n",
    "\n",
    "    # Move The Particle to the best neighbour every sensor will follow the best neighbour direction as its destiny,\n",
    "    # moving according to each sensor velocity (each sensor inside the particl may have a different velocity and a different direction).\n",
    "    def move(self):\n",
    "        sol = self.sol\n",
    "        velocity = self.vel\n",
    "        best = self.best\n",
    "\n",
    "        if best.sol == sol:\n",
    "            self.sol = sol\n",
    "        else:\n",
    "            actual = np.array(sol)\n",
    "            obj = np.array(best.sol)\n",
    "            for i in range(len(sol)):\n",
    "                dx = obj[i][0] - actual[i][0]\n",
    "                dy = obj[i][1] - actual[i][1]\n",
    "                sx = dx/abs(dx)\n",
    "                sy = dy/abs(dy)\n",
    "\n",
    "                vel = abs(velocity[i])\n",
    "\n",
    "                if vel == 0:\n",
    "                    svel = 0\n",
    "                else:\n",
    "                    svel = vel/velocity[i]\n",
    "                newx = actual[i][0]\n",
    "                newy = actual[i][1]\n",
    "\n",
    "                if dx==0 and dy==0:\n",
    "                    pass\n",
    "                else:\n",
    "                    while vel > 0:\n",
    "                        if dx == 0:\n",
    "                            pass\n",
    "                        elif newx == 0 and svel*sx == -1:\n",
    "                            vel-=1\n",
    "                        else:\n",
    "                            newx += svel*sx\n",
    "                            vel -=1\n",
    "                            if vel == 0 or (self.sens[i]+newx) == n or (newx == 0 and newy==0):\n",
    "                                break\n",
    "\n",
    "                        if dy == 0:\n",
    "                            pass\n",
    "                        elif newy == 0 and svel*sy == -1:\n",
    "                            vel-=1\n",
    "                        else:\n",
    "                            newy += svel*sy\n",
    "                            vel -=1\n",
    "                            if vel == 0 or (self.sens[i]+newy) == n or (newy == 0 and newx==0):\n",
    "                                break\n",
    "\n",
    "                        if dx==0 and dy==0:\n",
    "                            break\n",
    "\n",
    "                new = [int(newx), int(newy)]\n",
    "                if check_position(sens[i],  tuple(new), n):\n",
    "                    self.sol[i] = tuple(new)\n",
    "\n",
    "\n",
    "        self.update_fit()\n",
    "\n",
    "    def update_fit(self):\n",
    "        self.fit = fev(self.t,self.sens,self.sol)\n",
    "\n",
    "    def update_best(self,part):\n",
    "        if (self.fit >= part.fit):\n",
    "            self.best = part\n",
    "\n",
    "    def upadte_Neighbor(self,rankedParticles,index):\n",
    "        limit = pop_size\n",
    "        neighbs = self.fit\n",
    "        \n",
    "        for i in range(neighborhood):\n",
    "            nextN = index + i\n",
    "            if(nextN >= limit):\n",
    "                nextN = nextN - limit\n",
    "            if(rankedParticles[nextN].fit > neighbs):\n",
    "                self.best = rankedParticles[nextN]\n",
    "                neighbs = rankedParticles[nextN].fit\n",
    "            prevoiusN = index - i\n",
    "            \n",
    "            if(prevoiusN < 0):\n",
    "                prevoiusN = prevoiusN + limit\n",
    "                \n",
    "            if(rankedParticles[prevoiusN].fit > neighbs):\n",
    "                self.best = rankedParticles[prevoiusN]\n",
    "                neighbs = rankedParticles[prevoiusN].fit\n",
    "\n",
    "    # Calculate the velocity of each sensor internally \n",
    "    def update_velocity(self,c1,c2,gbest):\n",
    "        for i,sen in enumerate(self.sens):\n",
    "            for j in range(0,1): # In the tuple 0 and 1 (0,0) of each sensor\n",
    "                v1 = c1 * random.random() * (self.best.sol[i][j] - self.sol[i][j])\n",
    "                v2 = c2 * random.random() * (gbest.sol[i][j] - self.sol[i][j])\n",
    "                new_vel = self.vel[i] + int(v1) + int(v2)\n",
    "                if new_vel >  max_vel : self.vel[i] =  max_vel\n",
    "                if new_vel < -max_vel : self.vel[i] = -max_vel\n"
   ]
  },
  {
   "cell_type": "code",
   "execution_count": 30,
   "metadata": {
    "collapsed": false
   },
   "outputs": [
   ],
   "source": [
    "#Checks if its valid the position\n",
    "def check_position(sensor,pos,size):\n",
    "    x = pos[0]+sensor-1\n",
    "    y = pos[1]+sensor-1\n",
    "    cont = True\n",
    "    if(x > (size - 1) or y > (size - 1)):\n",
    "        cont = False\n",
    "    return cont\n",
    "\n",
    "# gen_population(sensors, number of the population, board size)\n",
    "def gen_population(sens,n,size):\n",
    "    population = []\n",
    "    for i in range(n):\n",
    "        localSol = []\n",
    "        for se in sens:\n",
    "            cont = True\n",
    "            pos = (0,0)\n",
    "            while cont:\n",
    "                x = random.randint(0,size - 1)\n",
    "                y = random.randint(0,size - 1)\n",
    "                pos = (x,y)\n",
    "                cont = not check_position(se,pos,size)\n",
    "            localSol.append(pos)\n",
    "        population.append(Particle(t,sens,localSol))\n",
    "    return population\n"
   ]
  },
  {
   "cell_type": "code",
   "execution_count": 2,
   "metadata": {
    "collapsed": false
   },
   "outputs": [
   ],
   "source": [
    "# Calculate the fit for each particle\n",
    "def getKey(part):\n",
    "    part.update_fit()\n",
    "    return part.fit\n",
    "\n",
    "# Ranks each particle from best to worst\n",
    "def rank(pop):\n",
    "    sortedPopulation = sorted(pop, key=getKey, reverse=True)\n",
    "    return sortedPopulation\n",
    "#rank(gen_population(sens,10,6))"
   ]
  },
  {
   "cell_type": "code",
   "execution_count": 29,
   "metadata": {
    "collapsed": false
   },
   "outputs": [
   ],
   "source": [
    "# Generates the solution terrain gen_sol_t(solution, sensors)\n",
    "def gen_sol_t(sol,sens,t,numbers=False):\n",
    "    gen_sol = np.zeros_like(t)\n",
    "    for i, sen in enumerate(sens):\n",
    "        pos = sol[i]\n",
    "        for x in range(pos[0],pos[0] + sen):\n",
    "            for y in range(pos[1],pos[1] + sen):\n",
    "                if numbers:\n",
    "                    gen_sol[x][y] = i + 1\n",
    "                else:\n",
    "                    gen_sol[x][y] = 1\n",
    "    return np.array(gen_sol)\n",
    "\n",
    "# fev(terrain, sensors, solution)\n",
    "def fev(t,sens,sol):\n",
    "    return np.sum(np.multiply(t,gen_sol_t(sol,sens,t)))\n",
    "\n",
    "#sol = [(0,0), (0,4), (3,4), (4,2)]\n",
    "#fev(t,sens,sol)"
   ]
  },
  {
   "cell_type": "code",
   "execution_count": 73,
   "metadata": {
    "collapsed": false
   },
   "outputs": [
   ],
   "source": [
    "def run(t,sens,n,max_gens,pop_size,c1,c2,neighborhood):\n",
    "    pop = gen_population(sens,pop_size,n)\n",
    "    all_bests = []\n",
    "    for i in range(max_gens):\n",
    "        rankedParticles = rank(pop)\n",
    "        gbest = rankedParticles[0]\n",
    "        all_bests.append(gbest)\n",
    "        index = 0\n",
    "        for part in rankedParticles:\n",
    "            part.update_best(gbest)\n",
    "            part.upadte_Neighbor(rankedParticles,index)\n",
    "            index = index +1\n",
    "        newPop = []\n",
    "        for i,part in enumerate(rankedParticles):\n",
    "            part.move()\n",
    "            part.update_velocity(c1,c2,gbest)\n",
    "            newPop.append(part)\n",
    "        pop = newPop\n",
    "    bestParticles = rank(all_bests)\n",
    "    print(bestParticles[0])\n",
    "    display_solution(t,rankedParticles[0].sol,sens)\n",
    "    print()"
   ]
  },
  {
   "cell_type": "code",
   "execution_count": 8,
   "metadata": {
    "collapsed": false
   },
   "outputs": [
    {
     "name": "stderr",
     "output_type": "stream",
     "text": [
      "/ext/anaconda5/lib/python3.6/site-packages/ipykernel/__main__.py:30: RuntimeWarning: invalid value encountered in long_scalars\n",
      "/ext/anaconda5/lib/python3.6/site-packages/ipykernel/__main__.py:31: RuntimeWarning: invalid value encountered in long_scalars\n"
     ]
    },
    {
     "name": "stdout",
     "output_type": "stream",
     "text": [
      "Particle: [(3, 1), (3, 3), (1, 4), (5, 1)] FEV: 11 V: [-2, 0, 1, 2]\n",
      "  1 2 3 4 5 6                1 2 3 4 5 6 \n",
      "1 - - X X - X              1 - - X X - X \n",
      "2 - X X - - -              2 - X X - 3 3 \n",
      "3 X X - - - -      ==>     3 X X - - 3 3 \n",
      "4 - - - - - -              4 - 1 1 2 2 - \n",
      "5 X X X - - -              5 X # # 2 2 - \n",
      "6 - - - - X X              6 - 4 1 1 X X \n",
      "\n"
     ]
    }
   ],
   "source": [
    "# Toy Problem\n",
    "t = np.array([[1,1,0,0,1,0], [1,0,0,1,1,1], [0,0,1,1,1,1], [1,1,1,1,1,1], [0,0,0,1,1,1], [1,1,1,1,0,0]])\n",
    "sens = [3,2,2,1]\n",
    "n = 6\n",
    "\n",
    "#sol = [(0,0), (0,4), (3,4), (4,2)]\n",
    "\n",
    "# Predefined variables\n",
    "max_gens = 20 # maximun number of generations\n",
    "pop_size = 1000 # number of particles\n",
    "max_vel = 2 # maximum velocity\n",
    "c1, c2 = 2.0, 1.5\n",
    "neighborhood = 2\n",
    "run(t,sens,n,max_gens,pop_size,c1,c2,neighborhood)"
   ]
  },
  {
   "cell_type": "code",
   "execution_count": 17,
   "metadata": {
    "cocalc": {
     "outputs": {
      "2": {
       "name": "input",
       "opts": {
        "password": false,
        "prompt": "LOL"
       },
       "output_type": "stream",
       "value": ""
      },
      "6": {
       "name": "input",
       "opts": {
        "password": false,
        "prompt": "LOL"
       },
       "output_type": "stream",
       "value": ""
      },
      "8": {
       "name": "input",
       "opts": {
        "password": false,
        "prompt": "LOL"
       },
       "output_type": "stream"
      }
     }
    },
    "collapsed": false,
    "scrolled": true
   },
   "outputs": [
    {
     "name": "stderr",
     "output_type": "stream",
     "text": [
      "/ext/anaconda5/lib/python3.6/site-packages/ipykernel/__main__.py:31: RuntimeWarning: invalid value encountered in long_scalars\n",
      "/ext/anaconda5/lib/python3.6/site-packages/ipykernel/__main__.py:30: RuntimeWarning: invalid value encountered in long_scalars\n"
     ]
    },
    {
     "name": "stdout",
     "output_type": "stream",
     "text": [
      "Particle: [(1, 5)] FEV: 0 V: [1]\n",
      "  1 2 3 4 5 6 7 8 9                1 2 3 4 5 6 7 8 9 \n",
      "1 X X X X X X X X X              1 X X X X X X X X X \n",
      "2 X X X X X X X X X              2 X X X X X # # X X \n",
      "3 X X X X X X X X X              3 X X X X X # # X X \n",
      "4 X X X X X X X X X      ==>     4 X X X X X X X X X \n",
      "5 X X X X X X X X X              5 X X X X X X X X X \n",
      "6 X X X X X - - X X              6 X X X X X - - X X \n",
      "7 X X X X X - - X X              7 X X X X X - - X X \n",
      "8 X X X X X X X X X              8 X X X X X X X X X \n",
      "9 X X X X X X X X X              9 X X X X X X X X X \n",
      "\n"
     ]
    }
   ],
   "source": [
    "t = np.array([[0,0,0,0,0,0,0,0,0],\n",
    "              [0,0,0,0,0,0,0,0,0],\n",
    "              [0,0,0,0,0,0,0,0,0],\n",
    "              [0,0,0,0,0,0,0,0,0],\n",
    "              [0,0,0,0,0,0,0,0,0],\n",
    "              [0,0,0,0,0,1,1,0,0],\n",
    "              [0,0,0,0,0,1,1,0,0],\n",
    "              [0,0,0,0,0,0,0,0,0],\n",
    "              [0,0,0,0,0,0,0,0,0]])\n",
    "sens = [2]\n",
    "n = len(t)\n",
    "\n",
    "# Predefined variables\n",
    "max_gens = 100 # maximun number of generations\n",
    "pop_size = 500 # number of particles\n",
    "max_vel = 1 # maximum velocity\n",
    "c1, c2 = 1.0, 3.0\n",
    "neighborhood = 100\n",
    "run(t,sens,n,max_gens,pop_size,c1,c2,neighborhood)"
   ]
  },
  {
   "cell_type": "markdown",
   "metadata": {
    "collapsed": false
   },
   "source": [
    "# Problems"
   ]
  },
  {
   "cell_type": "markdown",
   "metadata": {
    "collapsed": false
   },
   "source": [
    "Pop = 100| Gen = 50 | max_vel = 1 | C1 = 1 | C2 = 1"
   ]
  },
  {
   "cell_type": "code",
   "execution_count": 77,
   "metadata": {
    "collapsed": false
   },
   "outputs": [
    {
     "name": "stderr",
     "output_type": "stream",
     "text": [
      "/ext/anaconda5/lib/python3.6/site-packages/ipykernel/__main__.py:31: RuntimeWarning: invalid value encountered in long_scalars\n",
      "/ext/anaconda5/lib/python3.6/site-packages/ipykernel/__main__.py:30: RuntimeWarning: invalid value encountered in long_scalars\n"
     ]
    },
    {
     "name": "stdout",
     "output_type": "stream",
     "text": [
      "Particle: [(1, 3), (2, 1), (0, 0), (3, 0)] FEV: 16 V: [0, 1, 0, 1]\n",
      "  1 2 3 4 5 6                1 2 3 4 5 6 \n",
      "1 - - X X - X              1 3 3 X X - X \n",
      "2 - X X - - -              2 3 # X 1 1 1 \n",
      "3 X X - - - -      ==>     3 X # 2 1 1 1 \n",
      "4 - - - - - -              4 4 2 2 1 1 1 \n",
      "5 X X X - - -              5 X X X - - - \n",
      "6 - - - - X X              6 - - - - X X \n",
      "\n"
     ]
    }
   ],
   "source": [
    "# Toy Problem\n",
    "t = np.array([[1,1,0,0,1,0],\n",
    "              [1,0,0,1,1,1],\n",
    "              [0,0,1,1,1,1],\n",
    "              [1,1,1,1,1,1],\n",
    "              [0,0,0,1,1,1],\n",
    "              [1,1,1,1,0,0]])\n",
    "sens = [3,2,2,1]\n",
    "n = len(t)\n",
    "\n",
    "# Predefined variables\n",
    "max_gens = 50 # maximun number of generations\n",
    "pop_size = 100 # number of particles\n",
    "max_vel = 1 # maximum velocity\n",
    "c1, c2 = 1.0, 1.0\n",
    "neighborhood = 100\n",
    "run(t,sens,n,max_gens,pop_size,c1,c2,neighborhood)\n"
   ]
  },
  {
   "cell_type": "code",
   "execution_count": 78,
   "metadata": {
    "collapsed": false,
    "scrolled": true
   },
   "outputs": [
    {
     "name": "stderr",
     "output_type": "stream",
     "text": [
      "/ext/anaconda5/lib/python3.6/site-packages/ipykernel/__main__.py:30: RuntimeWarning: invalid value encountered in long_scalars\n",
      "/ext/anaconda5/lib/python3.6/site-packages/ipykernel/__main__.py:31: RuntimeWarning: invalid value encountered in long_scalars\n"
     ]
    },
    {
     "name": "stdout",
     "output_type": "stream",
     "text": [
      "Particle: [(3, 6), (5, 0), (7, 0), (2, 3), (8, 8)] FEV: 27 V: [1, 1, 1, 1, 1]\n",
      "  1 2 3 4 5 6 7 8 9                1 2 3 4 5 6 7 8 9 \n",
      "1 - - X X - X - - -              1 - - X X - X - - - \n",
      "2 - X X - - - - - -              2 - X X - - - - - - \n",
      "3 X X - - - - X X -              3 X X - 4 4 4 X X - \n",
      "4 - - - - - - - - -      ==>     4 - - - 4 4 4 1 1 1 \n",
      "5 X X X - - - - - -              5 X X X 4 4 4 1 1 1 \n",
      "6 - - - - X X - - -              6 2 2 - - X X 1 1 1 \n",
      "7 - - X - - X X X -              7 2 2 X - - X X X - \n",
      "8 - - X - - X X X -              8 3 3 X - - X X X - \n",
      "9 - - - - - X X X -              9 3 3 - - - X X X 5 \n",
      "\n"
     ]
    }
   ],
   "source": [
    "# Random Problem\n",
    "t = np.array([[1,1,0,0,1,0,1,1,1],\n",
    "              [1,0,0,1,1,1,1,1,1],\n",
    "              [0,0,1,1,1,1,0,0,1],\n",
    "              [1,1,1,1,1,1,1,1,1],\n",
    "              [0,0,0,1,1,1,1,1,1],\n",
    "              [1,1,1,1,0,0,1,1,1],\n",
    "              [1,1,0,1,1,0,0,0,1],\n",
    "              [1,1,0,1,1,0,0,0,1],\n",
    "              [1,1,1,1,1,0,0,0,1]])\n",
    "\n",
    "sens = [3,2,2,3,1]\n",
    "n = len(t)\n",
    "\n",
    "\n",
    "\n",
    "# Predefined variables\n",
    "max_gens = 50 # maximun number of generations\n",
    "pop_size = 100 # number of particles\n",
    "max_vel = 1 # maximum velocity\n",
    "c1, c2 = 1.0, 1.0\n",
    "neighborhood = 100\n",
    "run(t,sens,n,max_gens,pop_size,c1,c2,neighborhood)\n"
   ]
  },
  {
   "cell_type": "code",
   "execution_count": 80,
   "metadata": {
    "collapsed": false
   },
   "outputs": [
    {
     "name": "stderr",
     "output_type": "stream",
     "text": [
      "/ext/anaconda5/lib/python3.6/site-packages/ipykernel/__main__.py:30: RuntimeWarning: invalid value encountered in long_scalars\n",
      "/ext/anaconda5/lib/python3.6/site-packages/ipykernel/__main__.py:31: RuntimeWarning: invalid value encountered in long_scalars\n"
     ]
    },
    {
     "name": "stdout",
     "output_type": "stream",
     "text": [
      "Particle: [(5, 5)] FEV: 4 V: [0]\n",
      "  1 2 3 4 5 6 7 8 9                1 2 3 4 5 6 7 8 9 \n",
      "1 X X X X X X X X X              1 X X X X X X X X X \n",
      "2 X X X X X X X X X              2 X X X X X X X X X \n",
      "3 X X X X X X X X X              3 X X X X X X X X X \n",
      "4 X X X X X X X X X      ==>     4 X X X X X X X X X \n",
      "5 X X X X X X X X X              5 X X X X X X X X X \n",
      "6 X X X X X - - X X              6 X X X X X 1 1 X X \n",
      "7 X X X X X - - X X              7 X X X X X 1 1 X X \n",
      "8 X X X X X X X X X              8 X X X X X X X X X \n",
      "9 X X X X X X X X X              9 X X X X X X X X X \n",
      "\n"
     ]
    }
   ],
   "source": [
    "# Solitaire Problem\n",
    "t = np.array([[0,0,0,0,0,0,0,0,0],\n",
    "              [0,0,0,0,0,0,0,0,0],\n",
    "              [0,0,0,0,0,0,0,0,0],\n",
    "              [0,0,0,0,0,0,0,0,0],\n",
    "              [0,0,0,0,0,0,0,0,0],\n",
    "              [0,0,0,0,0,1,1,0,0],\n",
    "              [0,0,0,0,0,1,1,0,0],\n",
    "              [0,0,0,0,0,0,0,0,0],\n",
    "              [0,0,0,0,0,0,0,0,0]])\n",
    "sens = [2]\n",
    "n = len(t)\n",
    "\n",
    "# Predefined variables\n",
    "max_gens = 50 # maximun number of generations\n",
    "pop_size = 100 # number of particles\n",
    "max_vel = 1 # maximum velocity\n",
    "c1, c2 = 1.0, 1.0\n",
    "neighborhood = 100\n",
    "run(t,sens,n,max_gens,pop_size,c1,c2,neighborhood)"
   ]
  },
  {
   "cell_type": "code",
   "execution_count": 84,
   "metadata": {
    "collapsed": false
   },
   "outputs": [
    {
     "name": "stderr",
     "output_type": "stream",
     "text": [
      "/ext/anaconda5/lib/python3.6/site-packages/ipykernel/__main__.py:30: RuntimeWarning: invalid value encountered in long_scalars\n",
      "/ext/anaconda5/lib/python3.6/site-packages/ipykernel/__main__.py:31: RuntimeWarning: invalid value encountered in long_scalars\n"
     ]
    },
    {
     "name": "stdout",
     "output_type": "stream",
     "text": [
      "Particle: [(7, 0), (4, 3), (7, 0), (5, 5), (0, 0), (1, 4)] FEV: 24 V: [-1, 1, 0, 1, 1, 1]\n",
      "  1 2 3 4 5 6 7 8                1 2 3 4 5 6 7 8 \n",
      "1 - - - X X X X X              1 5 5 5 X X X X X \n",
      "2 - - - X - - - X              2 5 5 5 X 6 6 6 X \n",
      "3 - - - X - - - X              3 5 5 5 X 6 6 6 X \n",
      "4 X X X X - - - X      ==>     4 X X X X 6 6 6 X \n",
      "5 X X X - X X X X              5 X X X 2 X X X X \n",
      "6 - X X X X - - X              6 - X X X X 4 4 X \n",
      "7 X X X X X - - X              7 X X X X X 4 4 X \n",
      "8 - X X X X X X X              8 3 X X X X X X X \n",
      "\n"
     ]
    }
   ],
   "source": [
    "# PERFECT MATCH\n",
    "t = np.array([[1,1,1,0,0,0,0,0],\n",
    "              [1,1,1,0,1,1,1,0],\n",
    "              [1,1,1,0,1,1,1,0],\n",
    "              [0,0,0,0,1,1,1,0],\n",
    "              [0,0,0,1,0,0,0,0],\n",
    "              [1,0,0,0,0,1,1,0],\n",
    "              [0,0,0,0,0,1,1,0],\n",
    "              [1,0,0,0,0,0,0,0]])\n",
    "sens = [1,1,1,2,3,3]\n",
    "\n",
    "n=len(t)\n",
    "\n",
    "# Predefined variables\n",
    "max_gens = 50 # maximun number of generations\n",
    "pop_size = 100 # number of particles\n",
    "max_vel = 1 # maximum velocity\n",
    "c1, c2 = 1.0, 1.0\n",
    "neighborhood = 100\n",
    "run(t,sens,n,max_gens,pop_size,c1,c2,neighborhood)"
   ]
  },
  {
   "cell_type": "code",
   "execution_count": 89,
   "metadata": {
    "collapsed": false
   },
   "outputs": [
    {
     "name": "stderr",
     "output_type": "stream",
     "text": [
      "/ext/anaconda5/lib/python3.6/site-packages/ipykernel/__main__.py:30: RuntimeWarning: invalid value encountered in long_scalars\n",
      "/ext/anaconda5/lib/python3.6/site-packages/ipykernel/__main__.py:31: RuntimeWarning: invalid value encountered in long_scalars\n"
     ]
    },
    {
     "name": "stdout",
     "output_type": "stream",
     "text": [
      "Particle: [(3, 5), (3, 1), (0, 0), (7, 0), (4, 0), (3, 7)] FEV: 36 V: [1, 1, 1, 1, 1, 1]\n",
      "  1 2 3 4 5 6 7 8 9 10                1 2 3 4 5 6 7 8 9 10 \n",
      "1 - X - X - X - X - X              1 3 # 3 X - X - X - X \n",
      "2 X - - X X - - X - -              2 # 3 3 X X - - X - - \n",
      "3 X X X X X X X X X X              3 # # # X X X X X X X \n",
      "4 X X - - - X X X - -              4 X # 2 2 2 # # # 1 1 \n",
      "5 - - - - - - - - - -      ==>     5 5 2 2 2 2 1 1 1 1 1 \n",
      "6 X X - - - X - X X -              6 X # 2 2 2 # 1 # # 1 \n",
      "7 X X - - - X - X - -              7 X # 2 2 2 # 1 # 1 1 \n",
      "8 X - X - X - - - X -              8 # 4 X - X 1 1 1 # 1 \n",
      "9 - X X - X X - X X -              9 4 # X - X X - X X - \n",
      "10 - X X X X X X X X X              10 - X X X X X X X X X \n",
      "\n"
     ]
    }
   ],
   "source": [
    "# Big MATCH\n",
    "t = np.array([[1,0,1,0,1,0,1,0,1,0],\n",
    "              [0,1,1,0,0,1,1,0,1,1],\n",
    "              [0,0,0,0,0,0,0,0,0,0],\n",
    "              [0,0,1,1,1,0,0,0,1,1],\n",
    "              [1,1,1,1,1,1,1,1,1,1],\n",
    "              [0,0,1,1,1,0,1,0,0,1],\n",
    "              [0,0,1,1,1,0,1,0,1,1],\n",
    "              [0,1,0,1,0,1,1,1,0,1],\n",
    "              [1,0,0,1,0,0,1,0,0,1],\n",
    "              [1,0,0,0,0,0,0,0,0,0]])\n",
    "sens = [5,4,3,2,1,1]\n",
    "n = len(t)\n",
    "\n",
    "# Predefined variables\n",
    "max_gens = 50 # maximun number of generations\n",
    "pop_size = 100 # number of particles\n",
    "max_vel = 1 # maximum velocity\n",
    "c1, c2 = 1.0, 1.0\n",
    "neighborhood = 100\n",
    "run(t,sens,n,max_gens,pop_size,c1,c2,neighborhood)\n"
   ]
  },
  {
   "cell_type": "markdown",
   "metadata": {
    "collapsed": false
   },
   "source": [
    "Pop = 200| Gen = 100 | max_vel = 3 | C1 = 2 | C2 = 3"
   ]
  },
  {
   "cell_type": "code",
   "execution_count": 90,
   "metadata": {
    "collapsed": false
   },
   "outputs": [
    {
     "name": "stderr",
     "output_type": "stream",
     "text": [
      "/ext/anaconda5/lib/python3.6/site-packages/ipykernel/__main__.py:30: RuntimeWarning: invalid value encountered in long_scalars\n",
      "/ext/anaconda5/lib/python3.6/site-packages/ipykernel/__main__.py:31: RuntimeWarning: invalid value encountered in long_scalars\n"
     ]
    },
    {
     "name": "stdout",
     "output_type": "stream",
     "text": [
      "Particle: [(2, 3), (0, 0), (0, 3), (1, 5)] FEV: 16 V: [3, 0, 2, -3]\n",
      "  1 2 3 4 5 6                1 2 3 4 5 6 \n",
      "1 - - X X - X              1 2 2 X # 3 X \n",
      "2 - X X - - -              2 2 # X 3 3 4 \n",
      "3 X X - - - -      ==>     3 X X - 1 1 1 \n",
      "4 - - - - - -              4 - - - 1 1 1 \n",
      "5 X X X - - -              5 X X X 1 1 1 \n",
      "6 - - - - X X              6 - - - - X X \n",
      "\n"
     ]
    }
   ],
   "source": [
    "# Toy Problem\n",
    "t = np.array([[1,1,0,0,1,0],\n",
    "              [1,0,0,1,1,1],\n",
    "              [0,0,1,1,1,1],\n",
    "              [1,1,1,1,1,1],\n",
    "              [0,0,0,1,1,1],\n",
    "              [1,1,1,1,0,0]])\n",
    "sens = [3,2,2,1]\n",
    "n = len(t)\n",
    "\n",
    "# Predefined variables\n",
    "max_gens = 100 # maximun number of generations\n",
    "pop_size = 200 # number of particles\n",
    "max_vel = 3 # maximum velocity\n",
    "c1, c2 = 2.0, 3.0\n",
    "neighborhood = 100\n",
    "run(t,sens,n,max_gens,pop_size,c1,c2,neighborhood)\n"
   ]
  },
  {
   "cell_type": "code",
   "execution_count": 95,
   "metadata": {
    "collapsed": false
   },
   "outputs": [
    {
     "name": "stderr",
     "output_type": "stream",
     "text": [
      "/ext/anaconda5/lib/python3.6/site-packages/ipykernel/__main__.py:31: RuntimeWarning: invalid value encountered in long_scalars\n",
      "/ext/anaconda5/lib/python3.6/site-packages/ipykernel/__main__.py:30: RuntimeWarning: invalid value encountered in long_scalars\n"
     ]
    },
    {
     "name": "stdout",
     "output_type": "stream",
     "text": [
      "Particle: [(2, 3), (7, 0), (7, 3), (3, 6), (8, 8)] FEV: 27 V: [1, 3, 3, 3, -3]\n",
      "  1 2 3 4 5 6 7 8 9                1 2 3 4 5 6 7 8 9 \n",
      "1 - - X X - X - - -              1 - - X X - X - - - \n",
      "2 - X X - - - - - -              2 - X X - - - - - - \n",
      "3 X X - - - - X X -              3 X X - 1 1 1 X X - \n",
      "4 - - - - - - - - -      ==>     4 - - - 1 1 1 4 4 4 \n",
      "5 X X X - - - - - -              5 X X X 1 1 1 4 4 4 \n",
      "6 - - - - X X - - -              6 - - - - X X 4 4 4 \n",
      "7 - - X - - X X X -              7 - - X - - X X X - \n",
      "8 - - X - - X X X -              8 2 2 X 3 3 X X X - \n",
      "9 - - - - - X X X -              9 2 2 - 3 3 X X X 5 \n",
      "\n"
     ]
    }
   ],
   "source": [
    "# Random Problem\n",
    "t = np.array([[1,1,0,0,1,0,1,1,1],\n",
    "              [1,0,0,1,1,1,1,1,1],\n",
    "              [0,0,1,1,1,1,0,0,1],\n",
    "              [1,1,1,1,1,1,1,1,1],\n",
    "              [0,0,0,1,1,1,1,1,1],\n",
    "              [1,1,1,1,0,0,1,1,1],\n",
    "              [1,1,0,1,1,0,0,0,1],\n",
    "              [1,1,0,1,1,0,0,0,1],\n",
    "              [1,1,1,1,1,0,0,0,1]])\n",
    "\n",
    "sens = [3,2,2,3,1]\n",
    "n = len(t)\n",
    "\n",
    "# Predefined variables\n",
    "max_gens = 100 # maximun number of generations\n",
    "pop_size = 200 # number of particles\n",
    "max_vel = 3 # maximum velocity\n",
    "c1, c2 = 2.0, 3.0\n",
    "neighborhood = 100\n",
    "run(t,sens,n,max_gens,pop_size,c1,c2,neighborhood)\n"
   ]
  },
  {
   "cell_type": "code",
   "execution_count": 96,
   "metadata": {
    "collapsed": false
   },
   "outputs": [
    {
     "name": "stderr",
     "output_type": "stream",
     "text": [
      "/ext/anaconda5/lib/python3.6/site-packages/ipykernel/__main__.py:31: RuntimeWarning: invalid value encountered in long_scalars\n",
      "/ext/anaconda5/lib/python3.6/site-packages/ipykernel/__main__.py:30: RuntimeWarning: invalid value encountered in long_scalars\n"
     ]
    },
    {
     "name": "stdout",
     "output_type": "stream",
     "text": [
      "Particle: [(5, 5)] FEV: 4 V: [3]\n",
      "  1 2 3 4 5 6 7 8 9                1 2 3 4 5 6 7 8 9 \n",
      "1 X X X X X X X X X              1 X X X X X X X X X \n",
      "2 X X X X X X X X X              2 X X X X X X X X X \n",
      "3 X X X X X X X X X              3 X X X X X X X X X \n",
      "4 X X X X X X X X X      ==>     4 X X X X X X X X X \n",
      "5 X X X X X X X X X              5 X X X X X X X X X \n",
      "6 X X X X X - - X X              6 X X X X X 1 1 X X \n",
      "7 X X X X X - - X X              7 X X X X X 1 1 X X \n",
      "8 X X X X X X X X X              8 X X X X X X X X X \n",
      "9 X X X X X X X X X              9 X X X X X X X X X \n",
      "\n"
     ]
    }
   ],
   "source": [
    "# Solitaire Problem\n",
    "t = np.array([[0,0,0,0,0,0,0,0,0],\n",
    "              [0,0,0,0,0,0,0,0,0],\n",
    "              [0,0,0,0,0,0,0,0,0],\n",
    "              [0,0,0,0,0,0,0,0,0],\n",
    "              [0,0,0,0,0,0,0,0,0],\n",
    "              [0,0,0,0,0,1,1,0,0],\n",
    "              [0,0,0,0,0,1,1,0,0],\n",
    "              [0,0,0,0,0,0,0,0,0],\n",
    "              [0,0,0,0,0,0,0,0,0]])\n",
    "sens = [2]\n",
    "n = len(t)\n",
    "\n",
    "# Predefined variables\n",
    "max_gens = 100 # maximun number of generations\n",
    "pop_size = 200 # number of particles\n",
    "max_vel = 3 # maximum velocity\n",
    "c1, c2 = 2.0, 3.0\n",
    "neighborhood = 100\n",
    "run(t,sens,n,max_gens,pop_size,c1,c2,neighborhood)\n",
    "\n"
   ]
  },
  {
   "cell_type": "code",
   "execution_count": 102,
   "metadata": {
    "collapsed": false
   },
   "outputs": [
    {
     "name": "stderr",
     "output_type": "stream",
     "text": [
      "/ext/anaconda5/lib/python3.6/site-packages/ipykernel/__main__.py:30: RuntimeWarning: invalid value encountered in long_scalars\n",
      "/ext/anaconda5/lib/python3.6/site-packages/ipykernel/__main__.py:31: RuntimeWarning: invalid value encountered in long_scalars\n"
     ]
    },
    {
     "name": "stdout",
     "output_type": "stream",
     "text": [
      "Particle: [(0, 4), (7, 0), (4, 3), (6, 5), (1, 4), (0, 0)] FEV: 22 V: [3, 3, 3, 3, 1, -2]\n",
      "  1 2 3 4 5 6 7 8                1 2 3 4 5 6 7 8 \n",
      "1 - - - X X X X X              1 6 6 6 X # X X X \n",
      "2 - - - X - - - X              2 6 6 6 X 5 5 5 X \n",
      "3 - - - X - - - X              3 6 6 6 X 5 5 5 X \n",
      "4 X X X X - - - X      ==>     4 X X X X 5 5 5 X \n",
      "5 X X X - X X X X              5 X X X 3 X X X X \n",
      "6 - X X X X - - X              6 - X X X X - - X \n",
      "7 X X X X X - - X              7 X X X X X 4 4 X \n",
      "8 - X X X X X X X              8 2 X X X X # # X \n",
      "\n"
     ]
    }
   ],
   "source": [
    "# PERFECT MATCH\n",
    "t = np.array([[1,1,1,0,0,0,0,0],\n",
    "              [1,1,1,0,1,1,1,0],\n",
    "              [1,1,1,0,1,1,1,0],\n",
    "              [0,0,0,0,1,1,1,0],\n",
    "              [0,0,0,1,0,0,0,0],\n",
    "              [1,0,0,0,0,1,1,0],\n",
    "              [0,0,0,0,0,1,1,0],\n",
    "              [1,0,0,0,0,0,0,0]])\n",
    "sens = [1,1,1,2,3,3]\n",
    "\n",
    "n=len(t)\n",
    "\n",
    "# Predefined variables\n",
    "max_gens = 100 # maximun number of generations\n",
    "pop_size = 200 # number of particles\n",
    "max_vel = 3 # maximum velocity\n",
    "c1, c2 = 2.0, 3.0\n",
    "neighborhood = 100\n",
    "run(t,sens,n,max_gens,pop_size,c1,c2,neighborhood)\n"
   ]
  },
  {
   "cell_type": "code",
   "execution_count": 103,
   "metadata": {
    "collapsed": false
   },
   "outputs": [
    {
     "name": "stderr",
     "output_type": "stream",
     "text": [
      "/ext/anaconda5/lib/python3.6/site-packages/ipykernel/__main__.py:31: RuntimeWarning: invalid value encountered in long_scalars\n",
      "/ext/anaconda5/lib/python3.6/site-packages/ipykernel/__main__.py:30: RuntimeWarning: invalid value encountered in long_scalars\n"
     ]
    },
    {
     "name": "stdout",
     "output_type": "stream",
     "text": [
      "Particle: [(4, 5), (4, 1), (1, 7), (3, 4), (9, 0), (1, 2)] FEV: 35 V: [2, 1, 3, 3, 3, 1]\n",
      "  1 2 3 4 5 6 7 8 9 10                1 2 3 4 5 6 7 8 9 10 \n",
      "1 - X - X - X - X - X              1 - X - X - X - X - X \n",
      "2 X - - X X - - X - -              2 X - 6 X X - - # 3 3 \n",
      "3 X X X X X X X X X X              3 X X X X X X X # # # \n",
      "4 X X - - - X X X - -              4 X X - - 4 # X # 3 3 \n",
      "5 - - - - - - - - - -      ==>     5 - 2 2 2 4 4 1 1 1 1 \n",
      "6 X X - - - X - X X -              6 X # 2 2 2 # 1 # # 1 \n",
      "7 X X - - - X - X - -              7 X # 2 2 2 # 1 # 1 1 \n",
      "8 X - X - X - - - X -              8 X 2 # 2 # 1 1 1 # 1 \n",
      "9 - X X - X X - X X -              9 - X X - X # 1 # # 1 \n",
      "10 - X X X X X X X X X              10 5 X X X X X X X X X \n",
      "\n"
     ]
    }
   ],
   "source": [
    "# Big MATCH\n",
    "t = np.array([[1,0,1,0,1,0,1,0,1,0],\n",
    "              [0,1,1,0,0,1,1,0,1,1],\n",
    "              [0,0,0,0,0,0,0,0,0,0],\n",
    "              [0,0,1,1,1,0,0,0,1,1],\n",
    "              [1,1,1,1,1,1,1,1,1,1],\n",
    "              [0,0,1,1,1,0,1,0,0,1],\n",
    "              [0,0,1,1,1,0,1,0,1,1],\n",
    "              [0,1,0,1,0,1,1,1,0,1],\n",
    "              [1,0,0,1,0,0,1,0,0,1],\n",
    "              [1,0,0,0,0,0,0,0,0,0]])\n",
    "sens = [5,4,3,2,1,1]\n",
    "n = len(t)\n",
    "\n",
    "# Predefined variables\n",
    "max_gens = 100 # maximun number of generations\n",
    "pop_size = 200 # number of particles\n",
    "max_vel = 3 # maximum velocity\n",
    "c1, c2 = 2.0, 3.0\n",
    "neighborhood = 100\n",
    "run(t,sens,n,max_gens,pop_size,c1,c2,neighborhood)\n"
   ]
  }
 ],
 "metadata": {
  "kernelspec": {
   "display_name": "Python 3 (Anaconda 5)",
   "language": "python",
   "name": "anaconda5"
  },
  "language_info": {
   "codemirror_mode": {
    "name": "ipython",
    "version": 3
   },
   "file_extension": ".py",
   "mimetype": "text/x-python",
   "name": "python",
   "nbconvert_exporter": "python",
   "pygments_lexer": "ipython3",
   "version": "3.6.5"
  }
 },
 "nbformat": 4,
 "nbformat_minor": 0
}